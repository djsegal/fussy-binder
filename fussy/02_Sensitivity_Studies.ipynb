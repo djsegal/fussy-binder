{
 "cells": [
  {
   "cell_type": "markdown",
   "metadata": {},
   "source": [
    "# Sensitivity Studies\n",
    "\n",
    "Compare with:\n",
    "\n",
    "+ Arc\n",
    "+ Act 1 & 2\n",
    "+ Demo (Pulsed and SS)\n",
    "\n",
    "// also adds prototype reactor designs (scylla and charybdis)"
   ]
  },
  {
   "cell_type": "markdown",
   "metadata": {},
   "source": [
    "## 0.0 Bootup Notebook"
   ]
  },
  {
   "cell_type": "code",
   "execution_count": null,
   "metadata": {},
   "outputs": [],
   "source": [
    "rmprocs(collect(2:Sys.CPU_CORES))\n",
    "addprocs(Sys.CPU_CORES-1)\n",
    "\n",
    "@everywhere using Fussy\n",
    "Main.IJulia.set_current_module(Fussy)\n",
    "\n",
    "return"
   ]
  },
  {
   "cell_type": "markdown",
   "metadata": {},
   "source": [
    "## 1.0 Set Defaults"
   ]
  },
  {
   "cell_type": "code",
   "execution_count": null,
   "metadata": {},
   "outputs": [],
   "source": [
    "cur_decks = [\n",
    "    :scylla, # pulsed\n",
    "    :charybdis, # steady state\n",
    "    :arc, :act_1, :act_2,\n",
    "    :demo_steady, :demo_pulsed\n",
    "]\n",
    "  \n",
    "cur_params = [ \n",
    "    :wave_theta, :H, :Q, :epsilon, :kappa_95, :delta_95,\n",
    "    :nu_n, :nu_T, :l_i, :N_G, :f_D, :Z_eff,\n",
    "    :max_beta_N, :max_q_95, :max_P_W, :eta_CD,\n",
    "    :B_CS, :tau_FT\n",
    "]\n",
    "\n",
    "return"
   ]
  },
  {
   "cell_type": "markdown",
   "metadata": {},
   "source": [
    "## 2.0 Define Make Function"
   ]
  },
  {
   "cell_type": "code",
   "execution_count": null,
   "metadata": {},
   "outputs": [],
   "source": [
    "function make_studies(cur_param)\n",
    "    tmp_studies = Dict()\n",
    "\n",
    "    for cur_deck in cur_decks\n",
    "        println(cur_deck)\n",
    "        \n",
    "        if cur_deck == :demo_pulsed || cur_deck == :scylla || cur_deck == :demo_steady\n",
    "            is_consistent = false\n",
    "        else\n",
    "            is_consistent = true\n",
    "        end\n",
    "        \n",
    "        cur_study = Study(cur_param, deck=cur_deck, is_consistent=is_consistent, sensitivity=1.0, num_points=41, is_fast=true)\n",
    "        tmp_studies[cur_deck] = cur_study\n",
    "        sleep(0.25)\n",
    "    end\n",
    "\n",
    "    println(\"done.\")\n",
    "\n",
    "    tmp_studies\n",
    "end\n",
    "\n",
    "return"
   ]
  },
  {
   "cell_type": "markdown",
   "metadata": {},
   "source": [
    "## 3.0 Get Data"
   ]
  },
  {
   "cell_type": "code",
   "execution_count": null,
   "metadata": {},
   "outputs": [],
   "source": [
    "using FileIO\n",
    "using JLD2"
   ]
  },
  {
   "cell_type": "code",
   "execution_count": null,
   "metadata": {
    "scrolled": false
   },
   "outputs": [],
   "source": [
    "has_studies = isdefined(Fussy, :cur_studies)\n",
    "\n",
    "isdefined(Fussy, :cur_studies) || ( cur_studies = Dict() )\n",
    "\n",
    "cur_file = \"../data/sensitivities.jld2\"\n",
    "\n",
    "if !has_studies && isfile(cur_file)\n",
    "    has_studies = true\n",
    "    try\n",
    "        cur_studies = load(cur_file, \"cur_studies\")\n",
    "    catch\n",
    "        has_studies = false\n",
    "    end\n",
    "end\n",
    "\n",
    "latent_error = nothing\n",
    "for cur_param in cur_params\n",
    "    haskey(cur_studies, cur_param) && continue\n",
    "    println(\"> \", cur_param, \"\\n\")\n",
    "    try\n",
    "        cur_studies[cur_param] = make_studies(cur_param)\n",
    "    catch cur_error\n",
    "        latent_error = cur_error\n",
    "        break\n",
    "    end\n",
    "end\n",
    "\n",
    "isempty(cur_studies) || save(cur_file, Dict(\"cur_studies\" => cur_studies))\n",
    "\n",
    "( latent_error == nothing ) || rethrow(latent_error)\n",
    "\n",
    "return"
   ]
  },
  {
   "cell_type": "markdown",
   "metadata": {},
   "source": [
    "## 4.0 Setup for Plots¶"
   ]
  },
  {
   "cell_type": "code",
   "execution_count": null,
   "metadata": {},
   "outputs": [],
   "source": [
    "cur_fields = [ \n",
    "    \"T_bar\", \"n_bar\", \"I_P\", \"B_0\", \"R_CS\",\n",
    "    \"P_F\", \"f_IN\", \"f_BS\", \"f_CD\", \"W_M\", \"cost\", \"eta_CD\",\n",
    "    \"norm_q_95\", \"norm_P_E\", \"norm_P_W\", \"b\", \"c\", \"d\"\n",
    "]\n",
    "\n",
    "sort!(cur_fields)\n",
    "\n",
    "unshift!(cur_fields, \"R_0\")\n",
    "\n",
    "return"
   ]
  },
  {
   "cell_type": "code",
   "execution_count": null,
   "metadata": {},
   "outputs": [],
   "source": [
    "using Plots\n",
    "\n",
    "# plotlyjs()"
   ]
  },
  {
   "cell_type": "code",
   "execution_count": null,
   "metadata": {},
   "outputs": [],
   "source": [
    "using Interact\n",
    "using StringCases\n",
    "using DataStructures"
   ]
  },
  {
   "cell_type": "markdown",
   "metadata": {},
   "source": [
    "## 5.0 Make Plot GUI¶"
   ]
  },
  {
   "cell_type": "code",
   "execution_count": null,
   "metadata": {},
   "outputs": [],
   "source": [
    "@manipulate for xvar in cur_params, yvar in cur_fields, deck in cur_decks\n",
    "    cur_study = cur_studies[xvar][deck]\n",
    "\n",
    "    work_dict = OrderedDict()\n",
    "    \n",
    "    work_dict[\"Wall\"] = cur_study.wall_reactors\n",
    "    work_dict[\"Kink\"] = cur_study.kink_reactors\n",
    "    work_dict[\"Cost\"] = cur_study.cost_reactors\n",
    "    \n",
    "    filter!(work_reac -> work_reac.is_valid, work_dict[\"Wall\"])\n",
    "    filter!(work_reac -> work_reac.is_valid, work_dict[\"Kink\"])\n",
    "    filter!(work_reac -> work_reac.is_valid, work_dict[\"Cost\"])\n",
    "\n",
    "    max_yy = 0\n",
    "    \n",
    "    plot()\n",
    "    for (cur_index, (cur_key, cur_value)) in enumerate(work_dict)\n",
    "        isempty(cur_value) && continue\n",
    "        cur_xx = map(cur_reactor -> getfield(cur_reactor, Symbol(xvar)), cur_value) \n",
    "        cur_yy = map(cur_reactor -> getfield(cur_reactor, Symbol(yvar)), cur_value) \n",
    "\n",
    "        max_yy = max(max_yy, maximum(cur_yy))\n",
    "        \n",
    "        cur_label = ( cur_key == \"Cost\" ) ? \"Cost\" : \"Beta-$(cur_key)\"\n",
    "        plot!(cur_xx, cur_yy, label=cur_label, color=cur_index)\n",
    "    end\n",
    "    plot!()\n",
    "    \n",
    "    cur_bot_value = (1-cur_study.sensitivity)*cur_study.default\n",
    "    cur_top_value = (1+cur_study.sensitivity)*cur_study.default\n",
    "    \n",
    "    plot!(\n",
    "        [cur_study.default,cur_study.default],\n",
    "        [0,max_yy*1.25], \n",
    "        label=\"Default\", style=:dot, color=4, lineopacity=0.55, width=1.5\n",
    "    )\n",
    "    \n",
    "    plot!(\n",
    "        [cur_bot_value,cur_bot_value,NaN,cur_top_value,cur_top_value],\n",
    "        [0,max_yy*1.25,NaN,0,max_yy*1.25], \n",
    "        label=\"Edge\", style=:dot, color=5, lineopacity=0.55, width=1.5\n",
    "    )\n",
    "    \n",
    "    max_xx = cur_top_value\n",
    "    \n",
    "    xlims!(0, max_xx * 1.25)\n",
    "    ylims!(0, max_yy * 1.25)\n",
    "\n",
    "    xlabel!(string(xvar))\n",
    "    ylabel!(yvar)\n",
    "\n",
    "    cur_title = join(map(capitalize, split(string(deck), \"_\")), \" \")\n",
    "    title!(cur_title)\n",
    "end"
   ]
  },
  {
   "cell_type": "code",
   "execution_count": null,
   "metadata": {},
   "outputs": [],
   "source": []
  }
 ],
 "metadata": {
  "kernelspec": {
   "display_name": "Julia 0.6.2",
   "language": "julia",
   "name": "julia-0.6"
  },
  "language_info": {
   "file_extension": ".jl",
   "mimetype": "application/julia",
   "name": "julia",
   "version": "0.6.2"
  }
 },
 "nbformat": 4,
 "nbformat_minor": 2
}
