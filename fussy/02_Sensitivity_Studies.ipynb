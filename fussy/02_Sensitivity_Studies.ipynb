{
 "cells": [
  {
   "cell_type": "markdown",
   "metadata": {},
   "source": [
    "# Sensitivity Studies\n",
    "\n",
    "Compare with:\n",
    "\n",
    "+ Arc\n",
    "+ Act 1 & 2\n",
    "+ Demo (Pulsed and SS)\n",
    "\n",
    "// also adds prototype reactor designs (scylla and charybdis)"
   ]
  },
  {
   "cell_type": "markdown",
   "metadata": {},
   "source": [
    "## 0.0 Bootup Notebook"
   ]
  },
  {
   "cell_type": "code",
   "execution_count": 16,
   "metadata": {},
   "outputs": [],
   "source": [
    "if Sys.CPU_CORES != nprocs()\n",
    "    rmprocs(collect(2:100))\n",
    "    addprocs(Sys.CPU_CORES-1)\n",
    "end\n",
    "\n",
    "@everywhere using Fussy\n",
    "Main.IJulia.set_current_module(Fussy)\n",
    "\n",
    "return"
   ]
  },
  {
   "cell_type": "markdown",
   "metadata": {},
   "source": [
    "## 1.0 Set Defaults"
   ]
  },
  {
   "cell_type": "code",
   "execution_count": 17,
   "metadata": {},
   "outputs": [],
   "source": [
    "cur_decks = [\n",
    "    :scylla, # pulsed\n",
    "    :charybdis, # steady state\n",
    "    :arc, :act_1, :act_2,\n",
    "    :demo_steady, :demo_pulsed\n",
    "]\n",
    "  \n",
    "cur_params = [ \n",
    "    :wave_theta, :H, :Q, \n",
    "    :epsilon, :kappa_95, :delta_95,\n",
    "    :nu_n, :nu_T, :l_i, \n",
    "    :N_G, :f_D, :Z_eff,\n",
    "    :max_beta_N, :max_q_95, :max_P_W, \n",
    "    :eta_CD, :B_CS, :tau_FT, \n",
    "    :A, :C_ejima\n",
    "]\n",
    "\n",
    "return"
   ]
  },
  {
   "cell_type": "markdown",
   "metadata": {},
   "source": [
    "## 2.0 Define Make Function"
   ]
  },
  {
   "cell_type": "code",
   "execution_count": 18,
   "metadata": {},
   "outputs": [
    {
     "name": "stderr",
     "output_type": "stream",
     "text": [
      "WARNING: Method definition make_studies(Any) in module Fussy at In[3]:2 overwritten at In[18]:2.\n"
     ]
    }
   ],
   "source": [
    "function make_studies(cur_param)\n",
    "    tmp_studies = Dict()\n",
    "\n",
    "    for cur_deck in cur_decks\n",
    "        println(cur_deck)\n",
    "        \n",
    "        if cur_deck == :demo_pulsed || cur_deck == :scylla || cur_deck == :demo_steady\n",
    "            is_consistent = false\n",
    "        else\n",
    "            is_consistent = true\n",
    "        end\n",
    "        \n",
    "        cur_study = Study(cur_param, deck=cur_deck, is_consistent=is_consistent, sensitivity=1.0, num_points=41, is_fast=true)\n",
    "        tmp_studies[cur_deck] = cur_study\n",
    "        sleep(0.25)\n",
    "    end\n",
    "\n",
    "    println(\"done.\")\n",
    "\n",
    "    tmp_studies\n",
    "end\n",
    "\n",
    "return"
   ]
  },
  {
   "cell_type": "markdown",
   "metadata": {},
   "source": [
    "## 3.0 Get Data"
   ]
  },
  {
   "cell_type": "code",
   "execution_count": 4,
   "metadata": {},
   "outputs": [],
   "source": [
    "using FileIO\n",
    "using JLD2"
   ]
  },
  {
   "cell_type": "code",
   "execution_count": 10,
   "metadata": {
    "scrolled": false
   },
   "outputs": [
    {
     "name": "stdout",
     "output_type": "stream",
     "text": [
      "> C_ejima\n",
      "\n",
      "scylla\n"
     ]
    },
    {
     "name": "stderr",
     "output_type": "stream",
     "text": [
      "\u001b[32mProgress: 100%|█████████████████████████████████████████| Time: 0:00:22\u001b[39m\n",
      "\u001b[32mProgress: 100%|█████████████████████████████████████████| Time: 0:00:06\u001b[39m\n"
     ]
    },
    {
     "name": "stdout",
     "output_type": "stream",
     "text": [
      "charybdis\n"
     ]
    },
    {
     "name": "stderr",
     "output_type": "stream",
     "text": [
      "\u001b[32mProgress: 100%|█████████████████████████████████████████| Time: 0:00:02\u001b[39m\n",
      "\u001b[32mProgress: 100%|█████████████████████████████████████████| Time: 0:00:33\u001b[39m\n"
     ]
    },
    {
     "name": "stdout",
     "output_type": "stream",
     "text": [
      "arc\n"
     ]
    },
    {
     "name": "stderr",
     "output_type": "stream",
     "text": [
      "\u001b[32mProgress: 100%|█████████████████████████████████████████| Time: 0:00:01\u001b[39m\n",
      "\u001b[32mProgress: 100%|█████████████████████████████████████████| Time: 0:00:20\u001b[39m\n"
     ]
    },
    {
     "name": "stdout",
     "output_type": "stream",
     "text": [
      "act_1\n"
     ]
    },
    {
     "name": "stderr",
     "output_type": "stream",
     "text": [
      "\u001b[32mProgress: 100%|█████████████████████████████████████████| Time: 0:00:01\u001b[39m\n",
      "\u001b[32mProgress: 100%|█████████████████████████████████████████| Time: 0:00:24\u001b[39m\n"
     ]
    },
    {
     "name": "stdout",
     "output_type": "stream",
     "text": [
      "act_2\n"
     ]
    },
    {
     "name": "stderr",
     "output_type": "stream",
     "text": [
      "\u001b[32mProgress: 100%|█████████████████████████████████████████| Time: 0:00:01\u001b[39m\n",
      "\u001b[32mProgress: 100%|█████████████████████████████████████████| Time: 0:00:24\u001b[39m\n"
     ]
    },
    {
     "name": "stdout",
     "output_type": "stream",
     "text": [
      "demo_steady\n"
     ]
    },
    {
     "name": "stderr",
     "output_type": "stream",
     "text": [
      "\u001b[32mProgress: 100%|█████████████████████████████████████████| Time: 0:00:01\u001b[39m\n",
      "\u001b[32mProgress: 100%|█████████████████████████████████████████| Time: 0:00:01\u001b[39m\n"
     ]
    },
    {
     "name": "stdout",
     "output_type": "stream",
     "text": [
      "demo_pulsed\n"
     ]
    },
    {
     "name": "stderr",
     "output_type": "stream",
     "text": [
      "\u001b[32mProgress: 100%|█████████████████████████████████████████| Time: 0:00:07\u001b[39m\n",
      "\u001b[32mProgress: 100%|█████████████████████████████████████████| Time: 0:00:05\u001b[39m\n"
     ]
    },
    {
     "name": "stdout",
     "output_type": "stream",
     "text": [
      "done.\n"
     ]
    }
   ],
   "source": [
    "has_studies = isdefined(Fussy, :cur_studies)\n",
    "\n",
    "isdefined(Fussy, :cur_studies) || ( cur_studies = Dict() )\n",
    "\n",
    "cur_file = \"../data/sensitivities.jld2\"\n",
    "\n",
    "if !has_studies && isfile(cur_file)\n",
    "    has_studies = true\n",
    "    try\n",
    "        cur_studies = load(cur_file, \"cur_studies\")\n",
    "    catch\n",
    "        has_studies = false\n",
    "    end\n",
    "end\n",
    "\n",
    "latent_error = nothing\n",
    "for cur_param in cur_params\n",
    "    haskey(cur_studies, cur_param) && continue\n",
    "    println(\"> \", cur_param, \"\\n\")\n",
    "    try\n",
    "        cur_studies[cur_param] = make_studies(cur_param)\n",
    "    catch cur_error\n",
    "        latent_error = cur_error\n",
    "        break\n",
    "    end\n",
    "end\n",
    "\n",
    "isempty(cur_studies) || save(cur_file, Dict(\"cur_studies\" => cur_studies))\n",
    "\n",
    "( latent_error == nothing ) || rethrow(latent_error)\n",
    "\n",
    "return"
   ]
  },
  {
   "cell_type": "markdown",
   "metadata": {},
   "source": [
    "## 4.0 Setup for Plots"
   ]
  },
  {
   "cell_type": "code",
   "execution_count": 11,
   "metadata": {},
   "outputs": [],
   "source": [
    "cur_fields = [ \n",
    "    \"T_bar\", \"n_bar\", \"I_P\", \"B_0\", \"R_CS\",\n",
    "    \"P_F\", \"f_IN\", \"f_BS\", \"f_CD\", \"W_M\", \"cost\", \"eta_CD\",\n",
    "    \"norm_q_95\", \"norm_P_E\", \"norm_P_W\", \"b\", \"c\", \"d\"\n",
    "]\n",
    "\n",
    "sort!(cur_fields)\n",
    "\n",
    "unshift!(cur_fields, \"R_0\")\n",
    "\n",
    "return"
   ]
  },
  {
   "cell_type": "code",
   "execution_count": 12,
   "metadata": {},
   "outputs": [],
   "source": [
    "using Plots\n",
    "\n",
    "# plotlyjs()"
   ]
  },
  {
   "cell_type": "code",
   "execution_count": 13,
   "metadata": {},
   "outputs": [
    {
     "data": {
      "text/html": [
       "<div id=\"interact-js-shim\">\n",
       "    <script charset=\"utf-8\">\n",
       "(function (IPython, $, _, MathJax) {\n",
       "    $.event.special.destroyed = {\n",
       "\tremove: function(o) {\n",
       "\t    if (o.handler) {\n",
       "\t\to.handler.apply(this, arguments)\n",
       "\t    }\n",
       "\t}\n",
       "    }\n",
       "\n",
       "    var OutputArea = IPython.version >= \"4.0.0\" ? require(\"notebook/js/outputarea\").OutputArea : IPython.OutputArea;\n",
       "\n",
       "    var redrawValue = function (container, type, val) {\n",
       "\tvar selector = $(\"<div/>\");\n",
       "\tvar oa = new OutputArea(_.extend(selector, {\n",
       "\t    selector: selector,\n",
       "\t    prompt_area: true,\n",
       "\t    events: IPython.events,\n",
       "\t    keyboard_manager: IPython.keyboard_manager\n",
       "\t})); // Hack to work with IPython 2.1.0\n",
       "\n",
       "\tswitch (type) {\n",
       "\tcase \"image/png\":\n",
       "            var _src = 'data:' + type + ';base64,' + val;\n",
       "\t    $(container).find(\"img\").attr('src', _src);\n",
       "\t    break;\n",
       "\tcase \"text/latex\":\n",
       "\t\tif (MathJax){\n",
       "\t\t\tvar math = MathJax.Hub.getAllJax(container)[0];\n",
       "\t\t\tMathJax.Hub.Queue([\"Text\", math, val.replace(/^\\${1,2}|\\${1,2}$/g, '')]);\n",
       "\t\t\tbreak;\n",
       "\t\t}\n",
       "\tdefault:\n",
       "\t    var toinsert = OutputArea.append_map[type].apply(\n",
       "\t\toa, [val, {}, selector]\n",
       "\t    );\n",
       "\t    $(container).empty().append(toinsert.contents());\n",
       "\t    selector.remove();\n",
       "\t}\n",
       "    }\n",
       "\n",
       "\n",
       "    $(document).ready(function() {\n",
       "\tfunction initComm(evt, data) {\n",
       "\t    var comm_manager = data.kernel.comm_manager;\n",
       "        //_.extend(comm_manager.targets, require(\"widgets/js/widget\"))\n",
       "\t    comm_manager.register_target(\"Signal\", function (comm) {\n",
       "            comm.on_msg(function (msg) {\n",
       "                var val = msg.content.data.value;\n",
       "                $(\".signal-\" + comm.comm_id).each(function() {\n",
       "                var type = $(this).data(\"type\");\n",
       "                if (typeof(val[type]) !== \"undefined\" && val[type] !== null) {\n",
       "                    redrawValue(this, type, val[type], type);\n",
       "                }\n",
       "                });\n",
       "                delete val;\n",
       "                delete msg.content.data.value;\n",
       "            });\n",
       "\t    });\n",
       "\n",
       "\t    // coordingate with Comm and redraw Signals\n",
       "\t    // XXX: Test using Reactive here to improve performance\n",
       "\t    $([IPython.events]).on(\n",
       "\t\t'output_appended.OutputArea', function (event, type, value, md, toinsert) {\n",
       "\t\t    if (md && md.reactive) {\n",
       "                // console.log(md.comm_id);\n",
       "                toinsert.addClass(\"signal-\" + md.comm_id);\n",
       "                toinsert.data(\"type\", type);\n",
       "                // Signal back indicating the mimetype required\n",
       "                var comm_manager = IPython.notebook.kernel.comm_manager;\n",
       "                var comm = comm_manager.comms[md.comm_id];\n",
       "                comm.then(function (c) {\n",
       "                    c.send({action: \"subscribe_mime\",\n",
       "                       mime: type});\n",
       "                    toinsert.bind(\"destroyed\", function() {\n",
       "                        c.send({action: \"unsubscribe_mime\",\n",
       "                               mime: type});\n",
       "                    });\n",
       "                })\n",
       "\t\t    }\n",
       "\t    });\n",
       "\t}\n",
       "\n",
       "\ttry {\n",
       "\t    // try to initialize right away. otherwise, wait on the status_started event.\n",
       "\t    initComm(undefined, IPython.notebook);\n",
       "\t} catch (e) {\n",
       "\t    $([IPython.events]).on('kernel_created.Kernel kernel_created.Session', initComm);\n",
       "\t}\n",
       "    });\n",
       "})(IPython, jQuery, _, MathJax);\n",
       "</script>\n",
       "    <script>\n",
       "        window.interactLoadedFlag = true\n",
       "       $(\"#interact-js-shim\").bind(\"destroyed\", function () {\n",
       "           if (window.interactLoadedFlag) {\n",
       "               console.warn(\"JavaScript required by Interact will be removed if you remove this cell or run using Interact more than once.\")\n",
       "           }\n",
       "       })\n",
       "       $([IPython.events]).on(\"kernel_starting.Kernel kernel_restarting.Kernel\", function () { window.interactLoadedFlag = false })\n",
       "   </script>\n",
       "</div>"
      ]
     },
     "metadata": {},
     "output_type": "display_data"
    },
    {
     "name": "stderr",
     "output_type": "stream",
     "text": [
      "WARNING: using Interact.update! in module Fussy conflicts with an existing identifier.\n",
      "WARNING: using Interact.Progress in module Fussy conflicts with an existing identifier.\n"
     ]
    }
   ],
   "source": [
    "using Interact\n",
    "using StringCases\n",
    "using DataStructures"
   ]
  },
  {
   "cell_type": "markdown",
   "metadata": {},
   "source": [
    "## 5.0 Make Plot GUI"
   ]
  },
  {
   "cell_type": "code",
   "execution_count": 19,
   "metadata": {},
   "outputs": [
    {
     "data": {
      "application/vnd.jupyter.widget-view+json": {
       "model_id": "50f84079-5378-428f-95c8-985f002f710c",
       "version_major": 2,
       "version_minor": 0
      }
     },
     "metadata": {},
     "output_type": "display_data"
    },
    {
     "data": {
      "text/html": [],
      "text/plain": [
       "Interact.Options{:ToggleButtons,Symbol}(17: \"input-7\" = wave_theta Symbol , \"xvar\", :wave_theta, \"wave_theta\", 1, Interact.OptionDict(DataStructures.OrderedDict(\"wave_theta\"=>:wave_theta,\"H\"=>:H,\"Q\"=>:Q,\"epsilon\"=>:epsilon,\"kappa_95\"=>:kappa_95,\"delta_95\"=>:delta_95,\"nu_n\"=>:nu_n,\"nu_T\"=>:nu_T,\"l_i\"=>:l_i,\"N_G\"=>:N_G…), Dict(:tau_FT=>\"tau_FT\",:f_D=>\"f_D\",:max_beta_N=>\"max_beta_N\",:max_q_95=>\"max_q_95\",:kappa_95=>\"kappa_95\",:eta_CD=>\"eta_CD\",:epsilon=>\"epsilon\",:nu_n=>\"nu_n\",:C_ejima=>\"C_ejima\",:A=>\"A\"…)), Any[], Any[], true, \"horizontal\", true)"
      ]
     },
     "metadata": {},
     "output_type": "display_data"
    },
    {
     "data": {
      "application/vnd.jupyter.widget-view+json": {
       "model_id": "397dc08c-a0d5-4d3e-bcab-eafa8a4099f0",
       "version_major": 2,
       "version_minor": 0
      }
     },
     "metadata": {},
     "output_type": "display_data"
    },
    {
     "data": {
      "text/html": [],
      "text/plain": [
       "Interact.Options{:ToggleButtons,String}(19: \"input-8\" = R_0 String , \"yvar\", \"R_0\", \"R_0\", 1, Interact.OptionDict(DataStructures.OrderedDict(\"R_0\"=>\"R_0\",\"B_0\"=>\"B_0\",\"I_P\"=>\"I_P\",\"P_F\"=>\"P_F\",\"R_CS\"=>\"R_CS\",\"T_bar\"=>\"T_bar\",\"W_M\"=>\"W_M\",\"b\"=>\"b\",\"c\"=>\"c\",\"cost\"=>\"cost\"…), Dict(\"W_M\"=>\"W_M\",\"I_P\"=>\"I_P\",\"c\"=>\"c\",\"R_0\"=>\"R_0\",\"B_0\"=>\"B_0\",\"b\"=>\"b\",\"n_bar\"=>\"n_bar\",\"eta_CD\"=>\"eta_CD\",\"f_IN\"=>\"f_IN\",\"norm_P_W\"=>\"norm_P_W\"…)), Any[], Any[], true, \"horizontal\", true)"
      ]
     },
     "metadata": {},
     "output_type": "display_data"
    },
    {
     "data": {
      "application/vnd.jupyter.widget-view+json": {
       "model_id": "5f84d2e4-44c9-40e3-990d-a29df965fed1",
       "version_major": 2,
       "version_minor": 0
      }
     },
     "metadata": {},
     "output_type": "display_data"
    },
    {
     "data": {
      "text/html": [],
      "text/plain": [
       "Interact.Options{:ToggleButtons,Symbol}(21: \"input-9\" = scylla Symbol , \"deck\", :scylla, \"scylla\", 1, Interact.OptionDict(DataStructures.OrderedDict(\"scylla\"=>:scylla,\"charybdis\"=>:charybdis,\"arc\"=>:arc,\"act_1\"=>:act_1,\"act_2\"=>:act_2,\"demo_steady\"=>:demo_steady,\"demo_pulsed\"=>:demo_pulsed), Dict(:act_1=>\"act_1\",:scylla=>\"scylla\",:demo_steady=>\"demo_steady\",:charybdis=>\"charybdis\",:act_2=>\"act_2\",:arc=>\"arc\",:demo_pulsed=>\"demo_pulsed\")), Any[], Any[], true, \"horizontal\", true)"
      ]
     },
     "metadata": {},
     "output_type": "display_data"
    },
    {
     "data": {
      "text/html": [
       "<?xml version=\"1.0\" encoding=\"utf-8\"?>\n",
       "<svg xmlns=\"http://www.w3.org/2000/svg\" xmlns:xlink=\"http://www.w3.org/1999/xlink\" width=\"600\" height=\"400\" viewBox=\"0 0 600 400\">\n",
       "<defs>\n",
       "  <clipPath id=\"clip5100\">\n",
       "    <rect x=\"0\" y=\"0\" width=\"600\" height=\"400\"/>\n",
       "  </clipPath>\n",
       "</defs>\n",
       "<polygon clip-path=\"url(#clip5100)\" points=\"\n",
       "0,400 600,400 600,0 0,0 \n",
       "  \" fill=\"#ffffff\" fill-opacity=\"1\"/>\n",
       "<defs>\n",
       "  <clipPath id=\"clip5101\">\n",
       "    <rect x=\"120\" y=\"0\" width=\"421\" height=\"400\"/>\n",
       "  </clipPath>\n",
       "</defs>\n",
       "<polygon clip-path=\"url(#clip5100)\" points=\"\n",
       "38.1866,360.121 580.315,360.121 580.315,31.4961 38.1866,31.4961 \n",
       "  \" fill=\"#ffffff\" fill-opacity=\"1\"/>\n",
       "<defs>\n",
       "  <clipPath id=\"clip5102\">\n",
       "    <rect x=\"38\" y=\"31\" width=\"543\" height=\"330\"/>\n",
       "  </clipPath>\n",
       "</defs>\n",
       "<polyline clip-path=\"url(#clip5102)\" style=\"stroke:#000000; stroke-width:0.5; stroke-opacity:0.1; fill:none\" points=\"\n",
       "  38.1866,360.121 38.1866,31.4961 \n",
       "  \"/>\n",
       "<polyline clip-path=\"url(#clip5102)\" style=\"stroke:#000000; stroke-width:0.5; stroke-opacity:0.1; fill:none\" points=\"\n",
       "  198.817,360.121 198.817,31.4961 \n",
       "  \"/>\n",
       "<polyline clip-path=\"url(#clip5102)\" style=\"stroke:#000000; stroke-width:0.5; stroke-opacity:0.1; fill:none\" points=\"\n",
       "  359.448,360.121 359.448,31.4961 \n",
       "  \"/>\n",
       "<polyline clip-path=\"url(#clip5102)\" style=\"stroke:#000000; stroke-width:0.5; stroke-opacity:0.1; fill:none\" points=\"\n",
       "  520.078,360.121 520.078,31.4961 \n",
       "  \"/>\n",
       "<polyline clip-path=\"url(#clip5102)\" style=\"stroke:#000000; stroke-width:0.5; stroke-opacity:0.1; fill:none\" points=\"\n",
       "  38.1866,360.121 580.315,360.121 \n",
       "  \"/>\n",
       "<polyline clip-path=\"url(#clip5102)\" style=\"stroke:#000000; stroke-width:0.5; stroke-opacity:0.1; fill:none\" points=\"\n",
       "  38.1866,272.783 580.315,272.783 \n",
       "  \"/>\n",
       "<polyline clip-path=\"url(#clip5102)\" style=\"stroke:#000000; stroke-width:0.5; stroke-opacity:0.1; fill:none\" points=\"\n",
       "  38.1866,185.446 580.315,185.446 \n",
       "  \"/>\n",
       "<polyline clip-path=\"url(#clip5102)\" style=\"stroke:#000000; stroke-width:0.5; stroke-opacity:0.1; fill:none\" points=\"\n",
       "  38.1866,98.1086 580.315,98.1086 \n",
       "  \"/>\n",
       "<polyline clip-path=\"url(#clip5100)\" style=\"stroke:#000000; stroke-width:1; stroke-opacity:1; fill:none\" points=\"\n",
       "  38.1866,360.121 580.315,360.121 \n",
       "  \"/>\n",
       "<polyline clip-path=\"url(#clip5100)\" style=\"stroke:#000000; stroke-width:1; stroke-opacity:1; fill:none\" points=\"\n",
       "  38.1866,360.121 38.1866,31.4961 \n",
       "  \"/>\n",
       "<polyline clip-path=\"url(#clip5100)\" style=\"stroke:#000000; stroke-width:1; stroke-opacity:1; fill:none\" points=\"\n",
       "  38.1866,360.121 38.1866,355.191 \n",
       "  \"/>\n",
       "<polyline clip-path=\"url(#clip5100)\" style=\"stroke:#000000; stroke-width:1; stroke-opacity:1; fill:none\" points=\"\n",
       "  198.817,360.121 198.817,355.191 \n",
       "  \"/>\n",
       "<polyline clip-path=\"url(#clip5100)\" style=\"stroke:#000000; stroke-width:1; stroke-opacity:1; fill:none\" points=\"\n",
       "  359.448,360.121 359.448,355.191 \n",
       "  \"/>\n",
       "<polyline clip-path=\"url(#clip5100)\" style=\"stroke:#000000; stroke-width:1; stroke-opacity:1; fill:none\" points=\"\n",
       "  520.078,360.121 520.078,355.191 \n",
       "  \"/>\n",
       "<polyline clip-path=\"url(#clip5100)\" style=\"stroke:#000000; stroke-width:1; stroke-opacity:1; fill:none\" points=\"\n",
       "  38.1866,360.121 46.3186,360.121 \n",
       "  \"/>\n",
       "<polyline clip-path=\"url(#clip5100)\" style=\"stroke:#000000; stroke-width:1; stroke-opacity:1; fill:none\" points=\"\n",
       "  38.1866,272.783 46.3186,272.783 \n",
       "  \"/>\n",
       "<polyline clip-path=\"url(#clip5100)\" style=\"stroke:#000000; stroke-width:1; stroke-opacity:1; fill:none\" points=\"\n",
       "  38.1866,185.446 46.3186,185.446 \n",
       "  \"/>\n",
       "<polyline clip-path=\"url(#clip5100)\" style=\"stroke:#000000; stroke-width:1; stroke-opacity:1; fill:none\" points=\"\n",
       "  38.1866,98.1086 46.3186,98.1086 \n",
       "  \"/>\n",
       "<g clip-path=\"url(#clip5100)\">\n",
       "<text style=\"fill:#000000; fill-opacity:1; font-family:Arial,Helvetica Neue,Helvetica,sans-serif; font-size:12; text-anchor:middle;\" transform=\"rotate(0, 38.1866, 373.921)\" x=\"38.1866\" y=\"373.921\">0</text>\n",
       "</g>\n",
       "<g clip-path=\"url(#clip5100)\">\n",
       "<text style=\"fill:#000000; fill-opacity:1; font-family:Arial,Helvetica Neue,Helvetica,sans-serif; font-size:12; text-anchor:middle;\" transform=\"rotate(0, 198.817, 373.921)\" x=\"198.817\" y=\"373.921\">100</text>\n",
       "</g>\n",
       "<g clip-path=\"url(#clip5100)\">\n",
       "<text style=\"fill:#000000; fill-opacity:1; font-family:Arial,Helvetica Neue,Helvetica,sans-serif; font-size:12; text-anchor:middle;\" transform=\"rotate(0, 359.448, 373.921)\" x=\"359.448\" y=\"373.921\">200</text>\n",
       "</g>\n",
       "<g clip-path=\"url(#clip5100)\">\n",
       "<text style=\"fill:#000000; fill-opacity:1; font-family:Arial,Helvetica Neue,Helvetica,sans-serif; font-size:12; text-anchor:middle;\" transform=\"rotate(0, 520.078, 373.921)\" x=\"520.078\" y=\"373.921\">300</text>\n",
       "</g>\n",
       "<g clip-path=\"url(#clip5100)\">\n",
       "<text style=\"fill:#000000; fill-opacity:1; font-family:Arial,Helvetica Neue,Helvetica,sans-serif; font-size:12; text-anchor:end;\" transform=\"rotate(0, 32.1866, 364.621)\" x=\"32.1866\" y=\"364.621\">0</text>\n",
       "</g>\n",
       "<g clip-path=\"url(#clip5100)\">\n",
       "<text style=\"fill:#000000; fill-opacity:1; font-family:Arial,Helvetica Neue,Helvetica,sans-serif; font-size:12; text-anchor:end;\" transform=\"rotate(0, 32.1866, 277.283)\" x=\"32.1866\" y=\"277.283\">2</text>\n",
       "</g>\n",
       "<g clip-path=\"url(#clip5100)\">\n",
       "<text style=\"fill:#000000; fill-opacity:1; font-family:Arial,Helvetica Neue,Helvetica,sans-serif; font-size:12; text-anchor:end;\" transform=\"rotate(0, 32.1866, 189.946)\" x=\"32.1866\" y=\"189.946\">4</text>\n",
       "</g>\n",
       "<g clip-path=\"url(#clip5100)\">\n",
       "<text style=\"fill:#000000; fill-opacity:1; font-family:Arial,Helvetica Neue,Helvetica,sans-serif; font-size:12; text-anchor:end;\" transform=\"rotate(0, 32.1866, 102.609)\" x=\"32.1866\" y=\"102.609\">6</text>\n",
       "</g>\n",
       "<g clip-path=\"url(#clip5100)\">\n",
       "<text style=\"fill:#000000; fill-opacity:1; font-family:Arial,Helvetica Neue,Helvetica,sans-serif; font-size:21; text-anchor:middle;\" transform=\"rotate(0, 309.251, 18)\" x=\"309.251\" y=\"18\">Scylla</text>\n",
       "</g>\n",
       "<g clip-path=\"url(#clip5100)\">\n",
       "<text style=\"fill:#000000; fill-opacity:1; font-family:Arial,Helvetica Neue,Helvetica,sans-serif; font-size:16; text-anchor:middle;\" transform=\"rotate(0, 309.251, 397.6)\" x=\"309.251\" y=\"397.6\">wave_theta</text>\n",
       "</g>\n",
       "<g clip-path=\"url(#clip5100)\">\n",
       "<text style=\"fill:#000000; fill-opacity:1; font-family:Arial,Helvetica Neue,Helvetica,sans-serif; font-size:16; text-anchor:middle;\" transform=\"rotate(-90, 14.4, 195.808)\" x=\"14.4\" y=\"195.808\">R_0</text>\n",
       "</g>\n",
       "<polyline clip-path=\"url(#clip5102)\" style=\"stroke:#009af9; stroke-width:1; stroke-opacity:1; fill:none\" points=\"\n",
       "  38.1866,125.146 49.0292,125.146 59.8718,125.146 70.7143,125.146 81.5569,125.146 92.3995,125.146 103.242,125.146 114.085,125.146 124.927,125.146 135.77,125.146 \n",
       "  146.612,125.146 157.455,125.146 168.297,125.146 179.14,125.146 189.983,125.146 200.825,125.146 211.668,125.146 222.51,125.146 233.353,125.146 244.195,125.146 \n",
       "  255.038,125.146 265.881,125.146 276.723,125.146 287.566,125.146 298.408,125.146 309.251,125.146 320.093,125.146 330.936,125.146 341.779,125.146 352.621,125.146 \n",
       "  363.464,125.146 374.306,125.146 385.149,125.146 395.991,125.146 406.834,125.146 417.676,125.146 428.519,125.146 439.362,125.146 450.204,125.146 461.047,125.146 \n",
       "  471.889,125.146 \n",
       "  \"/>\n",
       "<polyline clip-path=\"url(#clip5102)\" style=\"stroke:#e26f46; stroke-width:1; stroke-opacity:1; fill:none\" points=\"\n",
       "  38.1866,97.221 49.0292,97.221 59.8718,97.221 70.7143,97.221 81.5569,97.221 92.3995,97.221 103.242,97.221 114.085,97.221 124.927,97.221 135.77,97.221 \n",
       "  146.612,97.221 157.455,97.221 168.297,97.221 179.14,97.221 189.983,97.221 200.825,97.221 211.668,97.221 222.51,97.221 233.353,97.221 244.195,97.221 \n",
       "  255.038,97.221 265.881,97.221 276.723,97.221 287.566,97.221 298.408,97.221 309.251,97.221 320.093,97.221 330.936,97.221 341.779,97.221 352.621,97.221 \n",
       "  363.464,97.221 374.306,97.221 385.149,97.221 395.991,97.221 406.834,97.221 417.676,97.221 428.519,97.221 439.362,97.221 450.204,97.221 461.047,97.221 \n",
       "  471.889,97.221 \n",
       "  \"/>\n",
       "<polyline clip-path=\"url(#clip5102)\" style=\"stroke:#c271d2; stroke-width:1.5; stroke-opacity:0.55; fill:none\" stroke-dasharray=\"1, 2\" points=\"\n",
       "  255.038,360.121 255.038,31.4961 \n",
       "  \"/>\n",
       "<polyline clip-path=\"url(#clip5102)\" style=\"stroke:#ac8d18; stroke-width:1.5; stroke-opacity:0.55; fill:none\" stroke-dasharray=\"1, 2\" points=\"\n",
       "  38.1866,360.121 38.1866,31.4961 \n",
       "  \"/>\n",
       "<polyline clip-path=\"url(#clip5102)\" style=\"stroke:#ac8d18; stroke-width:1.5; stroke-opacity:0.55; fill:none\" stroke-dasharray=\"1, 2\" points=\"\n",
       "  471.889,360.121 471.889,31.4961 \n",
       "  \"/>\n",
       "<polygon clip-path=\"url(#clip5100)\" points=\"\n",
       "447.13,127.976 562.315,127.976 562.315,52.3761 447.13,52.3761 \n",
       "  \" fill=\"#ffffff\" fill-opacity=\"1\"/>\n",
       "<polyline clip-path=\"url(#clip5100)\" style=\"stroke:#000000; stroke-width:1; stroke-opacity:1; fill:none\" points=\"\n",
       "  447.13,127.976 562.315,127.976 562.315,52.3761 447.13,52.3761 447.13,127.976 \n",
       "  \"/>\n",
       "<polyline clip-path=\"url(#clip5100)\" style=\"stroke:#009af9; stroke-width:1; stroke-opacity:1; fill:none\" points=\"\n",
       "  453.13,67.4961 489.13,67.4961 \n",
       "  \"/>\n",
       "<g clip-path=\"url(#clip5100)\">\n",
       "<text style=\"fill:#000000; fill-opacity:1; font-family:Arial,Helvetica Neue,Helvetica,sans-serif; font-size:12; text-anchor:start;\" transform=\"rotate(0, 495.13, 71.9961)\" x=\"495.13\" y=\"71.9961\">Beta-Wall</text>\n",
       "</g>\n",
       "<polyline clip-path=\"url(#clip5100)\" style=\"stroke:#e26f46; stroke-width:1; stroke-opacity:1; fill:none\" points=\"\n",
       "  453.13,82.6161 489.13,82.6161 \n",
       "  \"/>\n",
       "<g clip-path=\"url(#clip5100)\">\n",
       "<text style=\"fill:#000000; fill-opacity:1; font-family:Arial,Helvetica Neue,Helvetica,sans-serif; font-size:12; text-anchor:start;\" transform=\"rotate(0, 495.13, 87.1161)\" x=\"495.13\" y=\"87.1161\">Beta-Kink</text>\n",
       "</g>\n",
       "<polyline clip-path=\"url(#clip5100)\" style=\"stroke:#c271d2; stroke-width:1.5; stroke-opacity:0.55; fill:none\" stroke-dasharray=\"1, 2\" points=\"\n",
       "  453.13,97.7361 489.13,97.7361 \n",
       "  \"/>\n",
       "<g clip-path=\"url(#clip5100)\">\n",
       "<text style=\"fill:#000000; fill-opacity:1; font-family:Arial,Helvetica Neue,Helvetica,sans-serif; font-size:12; text-anchor:start;\" transform=\"rotate(0, 495.13, 102.236)\" x=\"495.13\" y=\"102.236\">Default</text>\n",
       "</g>\n",
       "<polyline clip-path=\"url(#clip5100)\" style=\"stroke:#ac8d18; stroke-width:1.5; stroke-opacity:0.55; fill:none\" stroke-dasharray=\"1, 2\" points=\"\n",
       "  453.13,112.856 489.13,112.856 \n",
       "  \"/>\n",
       "<g clip-path=\"url(#clip5100)\">\n",
       "<text style=\"fill:#000000; fill-opacity:1; font-family:Arial,Helvetica Neue,Helvetica,sans-serif; font-size:12; text-anchor:start;\" transform=\"rotate(0, 495.13, 117.356)\" x=\"495.13\" y=\"117.356\">Edge</text>\n",
       "</g>\n",
       "</svg>\n"
      ]
     },
     "execution_count": 19,
     "metadata": {
      "comm_id": "043fcd0b-e765-4590-867d-52f3da554236",
      "reactive": true
     },
     "output_type": "execute_result"
    }
   ],
   "source": [
    "@manipulate for xvar in cur_params, yvar in cur_fields, deck in cur_decks\n",
    "    cur_study = cur_studies[xvar][deck]\n",
    "\n",
    "    work_dict = OrderedDict()\n",
    "    \n",
    "    work_dict[\"Wall\"] = cur_study.wall_reactors\n",
    "    work_dict[\"Kink\"] = cur_study.kink_reactors\n",
    "    work_dict[\"Cost\"] = cur_study.cost_reactors\n",
    "    \n",
    "    filter!(work_reac -> work_reac.is_valid, work_dict[\"Wall\"])\n",
    "    filter!(work_reac -> work_reac.is_valid, work_dict[\"Kink\"])\n",
    "    filter!(work_reac -> work_reac.is_valid, work_dict[\"Cost\"])\n",
    "\n",
    "    max_yy = 0\n",
    "    \n",
    "    plot()\n",
    "    for (cur_index, (cur_key, cur_value)) in enumerate(work_dict)\n",
    "        isempty(cur_value) && continue\n",
    "        cur_xx = map(cur_reactor -> getfield(cur_reactor, Symbol(xvar)), cur_value) \n",
    "        cur_yy = map(cur_reactor -> getfield(cur_reactor, Symbol(yvar)), cur_value) \n",
    "\n",
    "        max_yy = max(max_yy, maximum(cur_yy))\n",
    "        \n",
    "        cur_label = ( cur_key == \"Cost\" ) ? \"Cost\" : \"Beta-$(cur_key)\"\n",
    "        plot!(cur_xx, cur_yy, label=cur_label, color=cur_index)\n",
    "    end\n",
    "    plot!()\n",
    "    \n",
    "    cur_bot_value = (1-cur_study.sensitivity)*cur_study.default\n",
    "    cur_top_value = (1+cur_study.sensitivity)*cur_study.default\n",
    "    \n",
    "    plot!(\n",
    "        [cur_study.default,cur_study.default],\n",
    "        [0,max_yy*1.25], \n",
    "        label=\"Default\", style=:dot, color=4, lineopacity=0.55, width=1.5\n",
    "    )\n",
    "    \n",
    "    plot!(\n",
    "        [cur_bot_value,cur_bot_value,NaN,cur_top_value,cur_top_value],\n",
    "        [0,max_yy*1.25,NaN,0,max_yy*1.25], \n",
    "        label=\"Edge\", style=:dot, color=5, lineopacity=0.55, width=1.5\n",
    "    )\n",
    "    \n",
    "    max_xx = cur_top_value\n",
    "    \n",
    "    xlims!(0, max_xx * 1.25)\n",
    "    ylims!(0, max_yy * 1.25)\n",
    "\n",
    "    xlabel!(string(xvar))\n",
    "    ylabel!(yvar)\n",
    "\n",
    "    cur_title = join(map(capitalize, split(string(deck), \"_\")), \" \")\n",
    "    title!(cur_title)\n",
    "end"
   ]
  },
  {
   "cell_type": "code",
   "execution_count": null,
   "metadata": {},
   "outputs": [],
   "source": []
  }
 ],
 "metadata": {
  "kernelspec": {
   "display_name": "Julia 0.6.2",
   "language": "julia",
   "name": "julia-0.6"
  },
  "language_info": {
   "file_extension": ".jl",
   "mimetype": "application/julia",
   "name": "julia",
   "version": "0.6.2"
  }
 },
 "nbformat": 4,
 "nbformat_minor": 2
}
