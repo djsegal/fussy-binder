{
 "cells": [
  {
   "cell_type": "markdown",
   "metadata": {},
   "source": [
    "# Sensitivity Studies\n",
    "\n",
    "Compare with:\n",
    "\n",
    "+ Arc\n",
    "+ Act 1 & 2\n",
    "+ Demo (Pulsed and SS)\n",
    "\n",
    "// also adds prototype reactor designs (scylla and charybdis)"
   ]
  },
  {
   "cell_type": "markdown",
   "metadata": {},
   "source": [
    "## 0.0 Bootup Notebook"
   ]
  },
  {
   "cell_type": "code",
   "execution_count": 1,
   "metadata": {},
   "outputs": [],
   "source": [
    "# addprocs(12)\n",
    "\n",
    "# @everywhere \n",
    "\n",
    "using Fussy\n",
    "\n",
    "Main.IJulia.set_current_module(Fussy)\n",
    "\n",
    "return"
   ]
  },
  {
   "cell_type": "markdown",
   "metadata": {},
   "source": [
    "## 1.0 Set Defaults"
   ]
  },
  {
   "cell_type": "code",
   "execution_count": 2,
   "metadata": {},
   "outputs": [],
   "source": [
    "cur_decks = [\n",
    "    :proteus, # pulsed\n",
    "    :charybdis, # steady state\n",
    "    :arc, :act_1, :act_2,\n",
    "    :demo_steady, :demo_pulsed\n",
    "]\n",
    "  \n",
    "cur_params = [ \n",
    "    :H, :Q, :wave_theta,\n",
    "    :epsilon, :kappa_95, :delta_95,\n",
    "    :nu_n, :nu_T, :l_i,\n",
    "    :N_G, :f_D, :Z_eff,\n",
    "    :max_beta_N, :max_q_95, :max_P_W, \n",
    "    :eta_CD, :B_CS, :tau_FT\n",
    "]\n",
    "\n",
    "return"
   ]
  },
  {
   "cell_type": "markdown",
   "metadata": {},
   "source": [
    "## 2.0 Define Make Function"
   ]
  },
  {
   "cell_type": "code",
   "execution_count": 3,
   "metadata": {},
   "outputs": [],
   "source": [
    "function make_studies(cur_param)\n",
    "    tmp_studies = Dict()\n",
    "\n",
    "    for cur_deck in cur_decks\n",
    "        println(cur_deck)\n",
    "        \n",
    "        if cur_deck == :demo_pulsed || cur_deck == :proteus || cur_deck == :demo_steady\n",
    "            is_consistent = false\n",
    "        else\n",
    "            is_consistent = true\n",
    "        end\n",
    "        \n",
    "        cur_study = Study(\n",
    "            cur_param, deck=cur_deck, is_consistent=is_consistent, is_fast=false, sensitivity=1.0, num_points=41, is_parallel=true\n",
    "        )\n",
    "        \n",
    "        tmp_studies[cur_deck] = cur_study\n",
    "        sleep(0.25)\n",
    "    end\n",
    "\n",
    "    println(\"done.\")\n",
    "\n",
    "    tmp_studies\n",
    "end\n",
    "\n",
    "return"
   ]
  },
  {
   "cell_type": "markdown",
   "metadata": {},
   "source": [
    "## 3.0 Get Data"
   ]
  },
  {
   "cell_type": "code",
   "execution_count": 4,
   "metadata": {},
   "outputs": [],
   "source": [
    "using FileIO\n",
    "using JLD2"
   ]
  },
  {
   "cell_type": "code",
   "execution_count": 5,
   "metadata": {},
   "outputs": [],
   "source": [
    "using Plots"
   ]
  },
  {
   "cell_type": "code",
   "execution_count": 12,
   "metadata": {},
   "outputs": [
    {
     "data": {
      "text/plain": [
       "Plots.GRBackend()"
      ]
     },
     "execution_count": 12,
     "metadata": {},
     "output_type": "execute_result"
    }
   ],
   "source": [
    "# plotlyjs()\n",
    "gr()"
   ]
  },
  {
   "cell_type": "code",
   "execution_count": 13,
   "metadata": {
    "scrolled": false
   },
   "outputs": [],
   "source": [
    "cur_file = \"../data/sensitivities.jld2\"\n",
    "\n",
    "# cur_studies = nothing\n",
    "# try\n",
    "    cur_studies = load(cur_file, \"cur_studies\")\n",
    "# catch\n",
    "#     cur_studies = Dict()\n",
    "# end\n",
    "\n",
    "latent_error = nothing\n",
    "for cur_param in cur_params\n",
    "    haskey(cur_studies, cur_param) && continue\n",
    "    println(\"> \", cur_param, \"\\n\")\n",
    "    try\n",
    "        cur_studies[cur_param] = make_studies(cur_param)\n",
    "    catch cur_error\n",
    "        latent_error = cur_error\n",
    "        break\n",
    "    end\n",
    "    jldopen(cur_file, \"w\") do work_dict\n",
    "        work_dict[\"cur_studies\"] = cur_studies\n",
    "    end\n",
    "end\n",
    "\n",
    "( latent_error == nothing ) || rethrow(latent_error)\n",
    "\n",
    "return"
   ]
  },
  {
   "cell_type": "markdown",
   "metadata": {},
   "source": [
    "## 4.0 Setup for Plots"
   ]
  },
  {
   "cell_type": "code",
   "execution_count": 14,
   "metadata": {},
   "outputs": [],
   "source": [
    "cur_fields = [ \n",
    "    \"T_bar\", \"n_bar\", \"I_P\", \"B_0\", \"R_CS\",\n",
    "    \"P_F\", \"f_IN\", \"f_BS\", \"f_CD\", \"W_M\", \"cost\", \"eta_CD\",\n",
    "    \"norm_q_95\", \"norm_P_E\", \"norm_P_W\", \"b\", \"c\", \"d\", \"P_ohmic\"\n",
    "]\n",
    "\n",
    "sort!(cur_fields)\n",
    "\n",
    "unshift!(cur_fields, \"R_0\")\n",
    "\n",
    "return"
   ]
  },
  {
   "cell_type": "code",
   "execution_count": 17,
   "metadata": {},
   "outputs": [
    {
     "data": {
      "text/plain": [
       "Plots.GRBackend()"
      ]
     },
     "execution_count": 17,
     "metadata": {},
     "output_type": "execute_result"
    }
   ],
   "source": [
    "using Plots\n",
    "\n",
    "gr()"
   ]
  },
  {
   "cell_type": "code",
   "execution_count": 18,
   "metadata": {},
   "outputs": [],
   "source": [
    "using Interact\n",
    "using StringCases\n",
    "using DataStructures"
   ]
  },
  {
   "cell_type": "markdown",
   "metadata": {},
   "source": [
    "## 5.0 Make Plot GUI"
   ]
  },
  {
   "cell_type": "code",
   "execution_count": 20,
   "metadata": {
    "scrolled": false
   },
   "outputs": [
    {
     "data": {
      "application/vnd.jupyter.widget-view+json": {
       "model_id": "b505b032-c865-4ed6-b2f3-f367116e2f2f",
       "version_major": 2,
       "version_minor": 0
      }
     },
     "metadata": {},
     "output_type": "display_data"
    },
    {
     "data": {
      "text/html": [],
      "text/plain": [
       "Interact.Options{:ToggleButtons,Symbol}(21: \"input-13\" = H Symbol , \"xvar\", :H, \"H\", 1, Interact.OptionDict(DataStructures.OrderedDict(\"H\"=>:H,\"Q\"=>:Q,\"wave_theta\"=>:wave_theta,\"epsilon\"=>:epsilon,\"kappa_95\"=>:kappa_95,\"delta_95\"=>:delta_95,\"nu_n\"=>:nu_n,\"nu_T\"=>:nu_T,\"l_i\"=>:l_i,\"N_G\"=>:N_G…), Dict(:tau_FT=>\"tau_FT\",:f_D=>\"f_D\",:max_beta_N=>\"max_beta_N\",:max_q_95=>\"max_q_95\",:kappa_95=>\"kappa_95\",:eta_CD=>\"eta_CD\",:epsilon=>\"epsilon\",:nu_n=>\"nu_n\",:Q=>\"Q\",:delta_95=>\"delta_95\"…)), Any[], Any[], true, \"horizontal\", true)"
      ]
     },
     "metadata": {},
     "output_type": "display_data"
    },
    {
     "data": {
      "application/vnd.jupyter.widget-view+json": {
       "model_id": "a12b8ba1-d217-4e07-8352-9b680a90cbfe",
       "version_major": 2,
       "version_minor": 0
      }
     },
     "metadata": {},
     "output_type": "display_data"
    },
    {
     "data": {
      "text/html": [],
      "text/plain": [
       "Interact.Options{:ToggleButtons,String}(23: \"input-14\" = R_0 String , \"yvar\", \"R_0\", \"R_0\", 1, Interact.OptionDict(DataStructures.OrderedDict(\"R_0\"=>\"R_0\",\"B_0\"=>\"B_0\",\"I_P\"=>\"I_P\",\"P_F\"=>\"P_F\",\"P_ohmic\"=>\"P_ohmic\",\"R_CS\"=>\"R_CS\",\"T_bar\"=>\"T_bar\",\"W_M\"=>\"W_M\",\"b\"=>\"b\",\"c\"=>\"c\"…), Dict(\"W_M\"=>\"W_M\",\"I_P\"=>\"I_P\",\"c\"=>\"c\",\"R_0\"=>\"R_0\",\"B_0\"=>\"B_0\",\"b\"=>\"b\",\"n_bar\"=>\"n_bar\",\"eta_CD\"=>\"eta_CD\",\"f_IN\"=>\"f_IN\",\"norm_P_W\"=>\"norm_P_W\"…)), Any[], Any[], true, \"horizontal\", true)"
      ]
     },
     "metadata": {},
     "output_type": "display_data"
    },
    {
     "data": {
      "application/vnd.jupyter.widget-view+json": {
       "model_id": "609bd17f-8b1f-4bba-9798-15297d5d49ae",
       "version_major": 2,
       "version_minor": 0
      }
     },
     "metadata": {},
     "output_type": "display_data"
    },
    {
     "data": {
      "text/html": [],
      "text/plain": [
       "Interact.Options{:ToggleButtons,Symbol}(25: \"input-15\" = proteus Symbol , \"deck\", :proteus, \"proteus\", 1, Interact.OptionDict(DataStructures.OrderedDict(\"proteus\"=>:proteus,\"charybdis\"=>:charybdis,\"arc\"=>:arc,\"act_1\"=>:act_1,\"act_2\"=>:act_2,\"demo_steady\"=>:demo_steady,\"demo_pulsed\"=>:demo_pulsed), Dict(:act_1=>\"act_1\",:proteus=>\"proteus\",:demo_steady=>\"demo_steady\",:charybdis=>\"charybdis\",:act_2=>\"act_2\",:arc=>\"arc\",:demo_pulsed=>\"demo_pulsed\")), Any[], Any[], true, \"horizontal\", true)"
      ]
     },
     "metadata": {},
     "output_type": "display_data"
    },
    {
     "data": {
      "application/vnd.jupyter.widget-view+json": {
       "model_id": "7b28e2de-bd32-42c5-890c-23d732a9c3dd",
       "version_major": 2,
       "version_minor": 0
      }
     },
     "metadata": {},
     "output_type": "display_data"
    },
    {
     "data": {
      "text/html": [],
      "text/plain": [
       "Interact.Checkbox(27: \"input-16\" = true Bool , \"enable_R_0\", true)"
      ]
     },
     "metadata": {},
     "output_type": "display_data"
    },
    {
     "data": {
      "application/vnd.jupyter.widget-view+json": {
       "model_id": "40b68957-c4fd-42f2-8064-4f6afd785ce2",
       "version_major": 2,
       "version_minor": 0
      }
     },
     "metadata": {},
     "output_type": "display_data"
    },
    {
     "data": {
      "text/html": [],
      "text/plain": [
       "Interact.Checkbox(28: \"input-17\" = true Bool , \"enable_B_0\", true)"
      ]
     },
     "metadata": {},
     "output_type": "display_data"
    },
    {
     "data": {
      "application/vnd.jupyter.widget-view+json": {
       "model_id": "18eef6ed-0c71-4641-80b8-8965950cf498",
       "version_major": 2,
       "version_minor": 0
      }
     },
     "metadata": {},
     "output_type": "display_data"
    },
    {
     "data": {
      "text/html": [],
      "text/plain": [
       "Interact.Checkbox(29: \"input-18\" = true Bool , \"enable_main\", true)"
      ]
     },
     "metadata": {},
     "output_type": "display_data"
    },
    {
     "data": {
      "image/svg+xml": [
       "<?xml version=\"1.0\" encoding=\"utf-8\"?>\n",
       "<svg xmlns=\"http://www.w3.org/2000/svg\" xmlns:xlink=\"http://www.w3.org/1999/xlink\" width=\"600\" height=\"400\" viewBox=\"0 0 2400 1600\">\n",
       "<defs>\n",
       "  <clipPath id=\"clip8400\">\n",
       "    <rect x=\"0\" y=\"0\" width=\"2000\" height=\"2000\"/>\n",
       "  </clipPath>\n",
       "</defs>\n",
       "<defs>\n",
       "  <clipPath id=\"clip8401\">\n",
       "    <rect x=\"0\" y=\"0\" width=\"2400\" height=\"1600\"/>\n",
       "  </clipPath>\n",
       "</defs>\n",
       "<polygon clip-path=\"url(#clip8401)\" points=\"\n",
       "0,1600 2400,1600 2400,0 0,0 \n",
       "  \" fill=\"#ffffff\" fill-opacity=\"1\"/>\n",
       "<defs>\n",
       "  <clipPath id=\"clip8402\">\n",
       "    <rect x=\"480\" y=\"0\" width=\"1681\" height=\"1600\"/>\n",
       "  </clipPath>\n",
       "</defs>\n",
       "<polygon clip-path=\"url(#clip8401)\" points=\"\n",
       "251.149,1440.48 2321.26,1440.48 2321.26,125.984 251.149,125.984 \n",
       "  \" fill=\"#ffffff\" fill-opacity=\"1\"/>\n",
       "<defs>\n",
       "  <clipPath id=\"clip8403\">\n",
       "    <rect x=\"251\" y=\"125\" width=\"2071\" height=\"1315\"/>\n",
       "  </clipPath>\n",
       "</defs>\n",
       "<polyline clip-path=\"url(#clip8403)\" style=\"stroke:#000000; stroke-width:2; stroke-opacity:0.1; fill:none\" points=\"\n",
       "  251.149,1440.48 251.149,125.984 \n",
       "  \"/>\n",
       "<polyline clip-path=\"url(#clip8403)\" style=\"stroke:#000000; stroke-width:2; stroke-opacity:0.1; fill:none\" points=\"\n",
       "  682.422,1440.48 682.422,125.984 \n",
       "  \"/>\n",
       "<polyline clip-path=\"url(#clip8403)\" style=\"stroke:#000000; stroke-width:2; stroke-opacity:0.1; fill:none\" points=\"\n",
       "  1113.69,1440.48 1113.69,125.984 \n",
       "  \"/>\n",
       "<polyline clip-path=\"url(#clip8403)\" style=\"stroke:#000000; stroke-width:2; stroke-opacity:0.1; fill:none\" points=\"\n",
       "  1544.97,1440.48 1544.97,125.984 \n",
       "  \"/>\n",
       "<polyline clip-path=\"url(#clip8403)\" style=\"stroke:#000000; stroke-width:2; stroke-opacity:0.1; fill:none\" points=\"\n",
       "  1976.24,1440.48 1976.24,125.984 \n",
       "  \"/>\n",
       "<polyline clip-path=\"url(#clip8403)\" style=\"stroke:#000000; stroke-width:2; stroke-opacity:0.1; fill:none\" points=\"\n",
       "  251.149,1440.48 2321.26,1440.48 \n",
       "  \"/>\n",
       "<polyline clip-path=\"url(#clip8403)\" style=\"stroke:#000000; stroke-width:2; stroke-opacity:0.1; fill:none\" points=\"\n",
       "  251.149,1170.94 2321.26,1170.94 \n",
       "  \"/>\n",
       "<polyline clip-path=\"url(#clip8403)\" style=\"stroke:#000000; stroke-width:2; stroke-opacity:0.1; fill:none\" points=\"\n",
       "  251.149,901.4 2321.26,901.4 \n",
       "  \"/>\n",
       "<polyline clip-path=\"url(#clip8403)\" style=\"stroke:#000000; stroke-width:2; stroke-opacity:0.1; fill:none\" points=\"\n",
       "  251.149,631.858 2321.26,631.858 \n",
       "  \"/>\n",
       "<polyline clip-path=\"url(#clip8403)\" style=\"stroke:#000000; stroke-width:2; stroke-opacity:0.1; fill:none\" points=\"\n",
       "  251.149,362.317 2321.26,362.317 \n",
       "  \"/>\n",
       "<polyline clip-path=\"url(#clip8401)\" style=\"stroke:#000000; stroke-width:4; stroke-opacity:1; fill:none\" points=\"\n",
       "  251.149,1440.48 2321.26,1440.48 \n",
       "  \"/>\n",
       "<polyline clip-path=\"url(#clip8401)\" style=\"stroke:#000000; stroke-width:4; stroke-opacity:1; fill:none\" points=\"\n",
       "  251.149,1440.48 251.149,125.984 \n",
       "  \"/>\n",
       "<polyline clip-path=\"url(#clip8401)\" style=\"stroke:#000000; stroke-width:4; stroke-opacity:1; fill:none\" points=\"\n",
       "  251.149,1440.48 251.149,1420.77 \n",
       "  \"/>\n",
       "<polyline clip-path=\"url(#clip8401)\" style=\"stroke:#000000; stroke-width:4; stroke-opacity:1; fill:none\" points=\"\n",
       "  682.422,1440.48 682.422,1420.77 \n",
       "  \"/>\n",
       "<polyline clip-path=\"url(#clip8401)\" style=\"stroke:#000000; stroke-width:4; stroke-opacity:1; fill:none\" points=\"\n",
       "  1113.69,1440.48 1113.69,1420.77 \n",
       "  \"/>\n",
       "<polyline clip-path=\"url(#clip8401)\" style=\"stroke:#000000; stroke-width:4; stroke-opacity:1; fill:none\" points=\"\n",
       "  1544.97,1440.48 1544.97,1420.77 \n",
       "  \"/>\n",
       "<polyline clip-path=\"url(#clip8401)\" style=\"stroke:#000000; stroke-width:4; stroke-opacity:1; fill:none\" points=\"\n",
       "  1976.24,1440.48 1976.24,1420.77 \n",
       "  \"/>\n",
       "<polyline clip-path=\"url(#clip8401)\" style=\"stroke:#000000; stroke-width:4; stroke-opacity:1; fill:none\" points=\"\n",
       "  251.149,1440.48 282.2,1440.48 \n",
       "  \"/>\n",
       "<polyline clip-path=\"url(#clip8401)\" style=\"stroke:#000000; stroke-width:4; stroke-opacity:1; fill:none\" points=\"\n",
       "  251.149,1170.94 282.2,1170.94 \n",
       "  \"/>\n",
       "<polyline clip-path=\"url(#clip8401)\" style=\"stroke:#000000; stroke-width:4; stroke-opacity:1; fill:none\" points=\"\n",
       "  251.149,901.4 282.2,901.4 \n",
       "  \"/>\n",
       "<polyline clip-path=\"url(#clip8401)\" style=\"stroke:#000000; stroke-width:4; stroke-opacity:1; fill:none\" points=\"\n",
       "  251.149,631.858 282.2,631.858 \n",
       "  \"/>\n",
       "<polyline clip-path=\"url(#clip8401)\" style=\"stroke:#000000; stroke-width:4; stroke-opacity:1; fill:none\" points=\"\n",
       "  251.149,362.317 282.2,362.317 \n",
       "  \"/>\n",
       "<g clip-path=\"url(#clip8401)\">\n",
       "<text style=\"fill:#000000; fill-opacity:1; font-family:Arial,Helvetica Neue,Helvetica,sans-serif; font-size:48; text-anchor:middle;\" transform=\"rotate(0, 251.149, 1494.48)\" x=\"251.149\" y=\"1494.48\">0.0</text>\n",
       "</g>\n",
       "<g clip-path=\"url(#clip8401)\">\n",
       "<text style=\"fill:#000000; fill-opacity:1; font-family:Arial,Helvetica Neue,Helvetica,sans-serif; font-size:48; text-anchor:middle;\" transform=\"rotate(0, 682.422, 1494.48)\" x=\"682.422\" y=\"1494.48\">0.5</text>\n",
       "</g>\n",
       "<g clip-path=\"url(#clip8401)\">\n",
       "<text style=\"fill:#000000; fill-opacity:1; font-family:Arial,Helvetica Neue,Helvetica,sans-serif; font-size:48; text-anchor:middle;\" transform=\"rotate(0, 1113.69, 1494.48)\" x=\"1113.69\" y=\"1494.48\">1.0</text>\n",
       "</g>\n",
       "<g clip-path=\"url(#clip8401)\">\n",
       "<text style=\"fill:#000000; fill-opacity:1; font-family:Arial,Helvetica Neue,Helvetica,sans-serif; font-size:48; text-anchor:middle;\" transform=\"rotate(0, 1544.97, 1494.48)\" x=\"1544.97\" y=\"1494.48\">1.5</text>\n",
       "</g>\n",
       "<g clip-path=\"url(#clip8401)\">\n",
       "<text style=\"fill:#000000; fill-opacity:1; font-family:Arial,Helvetica Neue,Helvetica,sans-serif; font-size:48; text-anchor:middle;\" transform=\"rotate(0, 1976.24, 1494.48)\" x=\"1976.24\" y=\"1494.48\">2.0</text>\n",
       "</g>\n",
       "<g clip-path=\"url(#clip8401)\">\n",
       "<text style=\"fill:#000000; fill-opacity:1; font-family:Arial,Helvetica Neue,Helvetica,sans-serif; font-size:48; text-anchor:end;\" transform=\"rotate(0, 227.149, 1457.98)\" x=\"227.149\" y=\"1457.98\">0.0</text>\n",
       "</g>\n",
       "<g clip-path=\"url(#clip8401)\">\n",
       "<text style=\"fill:#000000; fill-opacity:1; font-family:Arial,Helvetica Neue,Helvetica,sans-serif; font-size:48; text-anchor:end;\" transform=\"rotate(0, 227.149, 1188.44)\" x=\"227.149\" y=\"1188.44\">2.5</text>\n",
       "</g>\n",
       "<g clip-path=\"url(#clip8401)\">\n",
       "<text style=\"fill:#000000; fill-opacity:1; font-family:Arial,Helvetica Neue,Helvetica,sans-serif; font-size:48; text-anchor:end;\" transform=\"rotate(0, 227.149, 918.9)\" x=\"227.149\" y=\"918.9\">5.0</text>\n",
       "</g>\n",
       "<g clip-path=\"url(#clip8401)\">\n",
       "<text style=\"fill:#000000; fill-opacity:1; font-family:Arial,Helvetica Neue,Helvetica,sans-serif; font-size:48; text-anchor:end;\" transform=\"rotate(0, 227.149, 649.358)\" x=\"227.149\" y=\"649.358\">7.5</text>\n",
       "</g>\n",
       "<g clip-path=\"url(#clip8401)\">\n",
       "<text style=\"fill:#000000; fill-opacity:1; font-family:Arial,Helvetica Neue,Helvetica,sans-serif; font-size:48; text-anchor:end;\" transform=\"rotate(0, 227.149, 379.817)\" x=\"227.149\" y=\"379.817\">10.0</text>\n",
       "</g>\n",
       "<g clip-path=\"url(#clip8401)\">\n",
       "<text style=\"fill:#000000; fill-opacity:1; font-family:Arial,Helvetica Neue,Helvetica,sans-serif; font-size:84; text-anchor:middle;\" transform=\"rotate(0, 1286.2, 73.2)\" x=\"1286.2\" y=\"73.2\">Proteus</text>\n",
       "</g>\n",
       "<g clip-path=\"url(#clip8401)\">\n",
       "<text style=\"fill:#000000; fill-opacity:1; font-family:Arial,Helvetica Neue,Helvetica,sans-serif; font-size:66; text-anchor:middle;\" transform=\"rotate(0, 1286.2, 1590.4)\" x=\"1286.2\" y=\"1590.4\">H</text>\n",
       "</g>\n",
       "<g clip-path=\"url(#clip8401)\">\n",
       "<text style=\"fill:#000000; fill-opacity:1; font-family:Arial,Helvetica Neue,Helvetica,sans-serif; font-size:66; text-anchor:middle;\" transform=\"rotate(-90, 57.6, 783.233)\" x=\"57.6\" y=\"783.233\">R_0</text>\n",
       "</g>\n",
       "<polyline clip-path=\"url(#clip8403)\" style=\"stroke:#009af9; stroke-width:8; stroke-opacity:1; fill:none\" points=\"\n",
       "  1070.57,793.76 1113.69,809.731 1156.82,823.693 1199.95,835.763 1243.08,846.02 1286.2,854.512 1329.33,861.258 1372.46,866.251 1415.59,869.462 1458.71,870.843 \n",
       "  1501.84,870.331 1544.97,867.866 1588.1,863.441 \n",
       "  \"/>\n",
       "<polyline clip-path=\"url(#clip8403)\" style=\"stroke:#e26f46; stroke-width:8; stroke-opacity:1; fill:none\" points=\"\n",
       "  1070.57,779.989 1113.69,781.466 1156.82,781.778 1199.95,781.376 1243.08,780.531 1286.2,779.41 1329.33,778.119 1372.46,776.731 1415.59,775.292 1458.71,773.833 \n",
       "  1501.84,772.375 1544.97,770.934 1588.1,769.519 1631.22,768.135 1674.35,766.788 1717.48,765.479 1760.6,764.209 1803.73,762.979 1846.86,761.789 1889.99,760.637 \n",
       "  1933.11,759.524 1976.24,758.447 \n",
       "  \"/>\n",
       "<polyline clip-path=\"url(#clip8403)\" style=\"stroke:#3da44d; stroke-width:8; stroke-opacity:1; fill:none\" points=\"\n",
       "  596.167,380.578 639.294,459.243 682.422,519.282 725.549,566.654 768.676,607.652 811.804,643.638 854.931,675.597 898.058,704.266 941.186,730.204 984.313,753.847 \n",
       "  1027.44,775.539 1070.57,793.799 1113.69,809.788 1156.82,823.77 1199.95,835.862 1243.08,846.145 1286.2,854.666 1329.33,861.444 1372.46,872.928 1415.59,881.328 \n",
       "  1458.71,889.286 1501.84,896.852 1544.97,904.304 1588.1,911.238 1631.22,918.016 1674.35,924.587 1717.48,930.954 1760.6,937.091 1803.73,943.014 1846.86,948.827 \n",
       "  1889.99,954.408 1933.11,959.961 1976.24,965.251 \n",
       "  \"/>\n",
       "<polyline clip-path=\"url(#clip8403)\" style=\"stroke:#c271d2; stroke-width:8; stroke-opacity:1; fill:none\" points=\"\n",
       "  596.167,345.067 639.294,410.247 682.422,464.9 725.549,510.153 768.676,549.944 811.804,585.877 854.931,616.737 898.058,645.164 941.186,671.004 984.313,694.063 \n",
       "  1027.44,715.83 1070.57,735.795 1113.69,754.159 1156.82,781.509 1199.95,781.094 1243.08,780.238 1286.2,779.109 1329.33,777.813 1372.46,776.42 1415.59,774.977 \n",
       "  1458.71,773.515 1501.84,772.055 1544.97,770.612 1588.1,769.194 1631.22,768.482 1674.35,767.135 1717.48,765.826 1760.6,764.557 1803.73,763.327 1846.86,762.137 \n",
       "  1889.99,760.985 1933.11,759.871 1976.24,758.794 \n",
       "  \"/>\n",
       "<polyline clip-path=\"url(#clip8403)\" style=\"stroke:#c271d2; stroke-width:6; stroke-opacity:0.55; fill:none\" stroke-dasharray=\"3, 6\" points=\"\n",
       "  1113.69,1440.48 1113.69,71.2135 \n",
       "  \"/>\n",
       "<polyline clip-path=\"url(#clip8403)\" style=\"stroke:#ac8d18; stroke-width:6; stroke-opacity:0.55; fill:none\" stroke-dasharray=\"3, 6\" points=\"\n",
       "  251.149,1440.48 251.149,71.2135 \n",
       "  \"/>\n",
       "<polyline clip-path=\"url(#clip8403)\" style=\"stroke:#ac8d18; stroke-width:6; stroke-opacity:0.55; fill:none\" stroke-dasharray=\"3, 6\" points=\"\n",
       "  1976.24,1440.48 1976.24,71.2135 \n",
       "  \"/>\n",
       "<polygon clip-path=\"url(#clip8401)\" points=\"\n",
       "1769.84,632.864 2249.26,632.864 2249.26,209.504 1769.84,209.504 \n",
       "  \" fill=\"#ffffff\" fill-opacity=\"1\"/>\n",
       "<polyline clip-path=\"url(#clip8401)\" style=\"stroke:#000000; stroke-width:4; stroke-opacity:1; fill:none\" points=\"\n",
       "  1769.84,632.864 2249.26,632.864 2249.26,209.504 1769.84,209.504 1769.84,632.864 \n",
       "  \"/>\n",
       "<polyline clip-path=\"url(#clip8401)\" style=\"stroke:#009af9; stroke-width:8; stroke-opacity:1; fill:none\" points=\"\n",
       "  1793.84,269.984 1937.84,269.984 \n",
       "  \"/>\n",
       "<g clip-path=\"url(#clip8401)\">\n",
       "<text style=\"fill:#000000; fill-opacity:1; font-family:Arial,Helvetica Neue,Helvetica,sans-serif; font-size:48; text-anchor:start;\" transform=\"rotate(0, 1961.84, 287.484)\" x=\"1961.84\" y=\"287.484\">Beta-Wall</text>\n",
       "</g>\n",
       "<polyline clip-path=\"url(#clip8401)\" style=\"stroke:#e26f46; stroke-width:8; stroke-opacity:1; fill:none\" points=\"\n",
       "  1793.84,330.464 1937.84,330.464 \n",
       "  \"/>\n",
       "<g clip-path=\"url(#clip8401)\">\n",
       "<text style=\"fill:#000000; fill-opacity:1; font-family:Arial,Helvetica Neue,Helvetica,sans-serif; font-size:48; text-anchor:start;\" transform=\"rotate(0, 1961.84, 347.964)\" x=\"1961.84\" y=\"347.964\">Beta-Kink</text>\n",
       "</g>\n",
       "<polyline clip-path=\"url(#clip8401)\" style=\"stroke:#3da44d; stroke-width:8; stroke-opacity:1; fill:none\" points=\"\n",
       "  1793.84,390.944 1937.84,390.944 \n",
       "  \"/>\n",
       "<g clip-path=\"url(#clip8401)\">\n",
       "<text style=\"fill:#000000; fill-opacity:1; font-family:Arial,Helvetica Neue,Helvetica,sans-serif; font-size:48; text-anchor:start;\" transform=\"rotate(0, 1961.84, 408.444)\" x=\"1961.84\" y=\"408.444\">Cost</text>\n",
       "</g>\n",
       "<polyline clip-path=\"url(#clip8401)\" style=\"stroke:#c271d2; stroke-width:8; stroke-opacity:1; fill:none\" points=\"\n",
       "  1793.84,451.424 1937.84,451.424 \n",
       "  \"/>\n",
       "<g clip-path=\"url(#clip8401)\">\n",
       "<text style=\"fill:#000000; fill-opacity:1; font-family:Arial,Helvetica Neue,Helvetica,sans-serif; font-size:48; text-anchor:start;\" transform=\"rotate(0, 1961.84, 468.924)\" x=\"1961.84\" y=\"468.924\">Beta-W_M</text>\n",
       "</g>\n",
       "<polyline clip-path=\"url(#clip8401)\" style=\"stroke:#c271d2; stroke-width:6; stroke-opacity:0.55; fill:none\" stroke-dasharray=\"3, 6\" points=\"\n",
       "  1793.84,511.904 1937.84,511.904 \n",
       "  \"/>\n",
       "<g clip-path=\"url(#clip8401)\">\n",
       "<text style=\"fill:#000000; fill-opacity:1; font-family:Arial,Helvetica Neue,Helvetica,sans-serif; font-size:48; text-anchor:start;\" transform=\"rotate(0, 1961.84, 529.404)\" x=\"1961.84\" y=\"529.404\">Default</text>\n",
       "</g>\n",
       "<polyline clip-path=\"url(#clip8401)\" style=\"stroke:#ac8d18; stroke-width:6; stroke-opacity:0.55; fill:none\" stroke-dasharray=\"3, 6\" points=\"\n",
       "  1793.84,572.384 1937.84,572.384 \n",
       "  \"/>\n",
       "<g clip-path=\"url(#clip8401)\">\n",
       "<text style=\"fill:#000000; fill-opacity:1; font-family:Arial,Helvetica Neue,Helvetica,sans-serif; font-size:48; text-anchor:start;\" transform=\"rotate(0, 1961.84, 589.884)\" x=\"1961.84\" y=\"589.884\">Edge</text>\n",
       "</g>\n",
       "</svg>\n"
      ]
     },
     "execution_count": 20,
     "metadata": {
      "comm_id": "6108d0ce-b281-4270-8595-970ac969300f",
      "reactive": true
     },
     "output_type": "execute_result"
    }
   ],
   "source": [
    "@manipulate for xvar in cur_params, yvar in cur_fields, deck in cur_decks, enable_R_0=true, enable_B_0=true, enable_main=true\n",
    "    cur_study = cur_studies[xvar][deck]\n",
    "\n",
    "    work_dict = OrderedDict()\n",
    "    \n",
    "    work_dict[\"Wall\"] = cur_study.wall_reactors\n",
    "    work_dict[\"Kink\"] = cur_study.kink_reactors\n",
    "    work_dict[\"Cost\"] = cur_study.cost_reactors\n",
    "    \n",
    "    work_dict[\"W_M\"] = cur_study.W_M_reactors\n",
    "    \n",
    "    for (cur_key, cur_value) in work_dict\n",
    "        work_dict[cur_key] = filter(work_reac -> work_reac.is_valid, cur_value)\n",
    "    end\n",
    "        \n",
    "    max_yy = 0\n",
    "    \n",
    "    plot()\n",
    "    for (cur_index, (cur_key, cur_value)) in enumerate(work_dict)\n",
    "        isempty(cur_value) && continue\n",
    "        cur_xx = map(cur_reactor -> safe_get(cur_reactor, Symbol(xvar)), cur_value) \n",
    "        cur_yy = map(cur_reactor -> safe_get(cur_reactor, Symbol(yvar)), cur_value) \n",
    "\n",
    "        max_yy = max(max_yy, maximum(cur_yy))\n",
    "        \n",
    "        cur_style = length(split(cur_key, \" \")) > 1 ? :dash : :solid\n",
    "        cur_width = length(split(cur_key, \" \")) > 1 ? 1 : 2\n",
    "        \n",
    "        cur_label = ( cur_key == \"Cost\" ) ? \"Cost\" : \"Beta-$(cur_key)\"\n",
    "        \n",
    "        plot_func = length(cur_xx) == 1 ? scatter! : plot!\n",
    "        if length(split(cur_key, \" \")) > 1 \n",
    "            if endswith(cur_key, \"R_0\")\n",
    "                cur_label = \"R_0 = $(round(first(cur_value).R_0,1))\"\n",
    "                enable_R_0 && plot_func(cur_xx, cur_yy, label=cur_label, color=cur_index, style=:dash, palette=:grays)\n",
    "            else\n",
    "                cur_label = \"B_0 = $(round(first(cur_value).B_0,1))\"\n",
    "                enable_B_0 && plot_func(cur_xx, cur_yy, label=cur_label, color=cur_index, style=:dash, palette=:greens)\n",
    "            end\n",
    "        else\n",
    "            enable_main && plot_func(cur_xx, cur_yy, label=cur_label, color=cur_index, width=2)\n",
    "        end\n",
    "        \n",
    "    end\n",
    "    plot!()\n",
    "    \n",
    "    cur_bot_value = (1-cur_study.sensitivity)*cur_study.default\n",
    "    cur_top_value = (1+cur_study.sensitivity)*cur_study.default\n",
    "    \n",
    "    plot!(\n",
    "        [cur_study.default,cur_study.default],\n",
    "        [0,max_yy*1.25], \n",
    "        label=\"Default\", style=:dot, color=4, lineopacity=0.55, width=1.5\n",
    "    )\n",
    "    \n",
    "    plot!(\n",
    "        [cur_bot_value,cur_bot_value,NaN,cur_top_value,cur_top_value],\n",
    "        [0,max_yy*1.25,NaN,0,max_yy*1.25], \n",
    "        label=\"Edge\", style=:dot, color=5, lineopacity=0.55, width=1.5\n",
    "    )\n",
    "    \n",
    "    max_xx = cur_top_value\n",
    "    \n",
    "    xlims!(0, max_xx * 1.2)\n",
    "    ylims!(0, max_yy * 1.2)\n",
    "\n",
    "    xlabel!(string(xvar))\n",
    "    ylabel!(yvar)\n",
    "\n",
    "    cur_title = join(map(capitalize, split(string(deck), \"_\")), \" \")\n",
    "    title!(cur_title)\n",
    "    \n",
    "    plot!(dpi=400)\n",
    "end"
   ]
  },
  {
   "cell_type": "code",
   "execution_count": null,
   "metadata": {},
   "outputs": [],
   "source": []
  }
 ],
 "metadata": {
  "kernelspec": {
   "display_name": "Julia 0.6.2",
   "language": "julia",
   "name": "julia-0.6"
  },
  "language_info": {
   "file_extension": ".jl",
   "mimetype": "application/julia",
   "name": "julia",
   "version": "0.6.2"
  }
 },
 "nbformat": 4,
 "nbformat_minor": 2
}
