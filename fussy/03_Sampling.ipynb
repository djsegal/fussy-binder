{
 "cells": [
  {
   "cell_type": "markdown",
   "metadata": {},
   "source": [
    "# Monte Carlo Sampling\n",
    "\n",
    "Compare with:\n",
    "\n",
    "+ Arc\n",
    "+ Act 1 & 2\n",
    "+ Demo (Pulsed and SS)\n",
    "\n",
    "// also adds prototype reactor designs (scylla and charybdis)"
   ]
  },
  {
   "cell_type": "markdown",
   "metadata": {},
   "source": [
    "## 0.0 Bootup Notebook"
   ]
  },
  {
   "cell_type": "code",
   "execution_count": null,
   "metadata": {},
   "outputs": [],
   "source": [
    "# if Sys.CPU_CORES != nprocs()\n",
    "#     rmprocs(collect(2:100))\n",
    "#     addprocs(Sys.CPU_CORES-1)\n",
    "# end\n",
    "\n",
    "addprocs(10)\n",
    "\n",
    "@everywhere using Fussy\n",
    "Main.IJulia.set_current_module(Fussy)\n",
    "\n",
    "return"
   ]
  },
  {
   "cell_type": "code",
   "execution_count": null,
   "metadata": {},
   "outputs": [],
   "source": [
    "using Fussy\n",
    "Main.IJulia.set_current_module(Fussy)\n",
    "\n",
    "return"
   ]
  },
  {
   "cell_type": "markdown",
   "metadata": {},
   "source": [
    "## 1.0 Set Defaults"
   ]
  },
  {
   "cell_type": "code",
   "execution_count": null,
   "metadata": {},
   "outputs": [],
   "source": [
    "cur_decks = [\n",
    "    :scylla, # pulsed\n",
    "    :charybdis, # steady state\n",
    "    :arc, :act_1, :act_2,\n",
    "    :demo_steady, :demo_pulsed\n",
    "]\n",
    "  \n",
    "# cur_params = [ \n",
    "#     :wave_theta, :H, :Q, :epsilon, :kappa_95, :delta_95,\n",
    "#     :nu_n, :nu_T, :l_i, :N_G, :f_D, :Z_eff,\n",
    "#     :max_beta_N, :max_q_95, :max_P_W, :eta_CD,\n",
    "#     :B_CS, :tau_FT\n",
    "# ]\n",
    "\n",
    "cur_sensitivity = 0.35\n",
    "\n",
    "cur_params = [ \n",
    "    :wave_theta, :H, :Q, :epsilon, :delta_95,\n",
    "    :nu_n, :nu_T, :l_i, :N_G, :f_D, \n",
    "    :Z_eff, :eta_CD, :B_CS, :tau_FT\n",
    "]\n",
    "\n",
    "return"
   ]
  },
  {
   "cell_type": "markdown",
   "metadata": {},
   "source": [
    "## 2.0 Define Make Function"
   ]
  },
  {
   "cell_type": "code",
   "execution_count": null,
   "metadata": {},
   "outputs": [],
   "source": [
    "using FileIO\n",
    "using JLD2"
   ]
  },
  {
   "cell_type": "code",
   "execution_count": null,
   "metadata": {},
   "outputs": [],
   "source": [
    "function make_sampling(cur_deck)\n",
    "    println(cur_deck)\n",
    "    \n",
    "    cur_file = \"../data/samplings_$(cur_deck).jld2\"\n",
    "    \n",
    "    if cur_deck == :demo_pulsed || cur_deck == :scylla || cur_deck == :demo_steady\n",
    "        is_consistent = false\n",
    "    else\n",
    "        is_consistent = true\n",
    "    end\n",
    "    \n",
    "    cur_sampling = nothing\n",
    "    try\n",
    "        cur_sampling = load(cur_file, \"cur_sampling\")\n",
    "    catch\n",
    "        cur_sampling = Sampling(cur_params; sensitivity=cur_sensitivity, deck=cur_deck, is_consistent=is_consistent, max_reactors=5000, run_count=0, batch_count=1)\n",
    "    end\n",
    "    \n",
    "    println(length(cur_sampling.reactors))\n",
    "    \n",
    "    max_batch = 99\n",
    "\n",
    "    for cur_batch in 1:max_batch\n",
    "        ( length(cur_sampling.reactors) >= 1000 ) && break\n",
    "        \n",
    "        println(\"===========\")\n",
    "        println(\"  \", cur_batch, \" / \", max_batch)\n",
    "        println(\"-----------\")\n",
    "\n",
    "        tmp_sampling = nothing\n",
    "        try\n",
    "            tmp_sampling = Sampling(cur_params; sensitivity=cur_sensitivity, deck=cur_deck, is_consistent=is_consistent, max_reactors=200, run_count=4000, batch_count=3, max_time=120)\n",
    "        catch cur_error\n",
    "            println(\"**** top ****\")\n",
    "            println(cur_error)\n",
    "            println(\"**** bot ****\")\n",
    "            continue\n",
    "        end\n",
    "\n",
    "        append!(cur_sampling.reactors, tmp_sampling.reactors)\n",
    "        sleep(0.15)\n",
    "\n",
    "        println(\"added: \", length(tmp_sampling.reactors), \"  // now: \", length(cur_sampling.reactors))\n",
    "        save(cur_file, Dict(\"cur_sampling\" => cur_sampling))\n",
    "    end\n",
    "\n",
    "    println(\"\\n done.\")\n",
    "    \n",
    "    cur_sampling\n",
    "end\n",
    "\n",
    "return"
   ]
  },
  {
   "cell_type": "markdown",
   "metadata": {},
   "source": [
    "## 3.0 Get Data"
   ]
  },
  {
   "cell_type": "code",
   "execution_count": null,
   "metadata": {},
   "outputs": [],
   "source": [
    "isdefined(Fussy, :default_samplings) || ( default_samplings = Dict() )\n",
    "\n",
    "for cur_deck in cur_decks\n",
    "    haskey(default_samplings, cur_deck) && continue\n",
    "    println(cur_deck)\n",
    "    \n",
    "    if cur_deck == :demo_pulsed || cur_deck == :scylla || cur_deck == :demo_steady\n",
    "        is_consistent = false\n",
    "    else\n",
    "        is_consistent = true\n",
    "    end\n",
    "    default_samplings[cur_deck] = Sampling(cur_params; sensitivity=eps(), deck=cur_deck, is_consistent=is_consistent, max_reactors=1, run_count=1, batch_count=1, max_time=120)\n",
    "    \n",
    "    isempty(default_samplings[cur_deck].reactors) && println(\":/\")\n",
    "end\n",
    "\n",
    "return\n"
   ]
  },
  {
   "cell_type": "code",
   "execution_count": null,
   "metadata": {
    "scrolled": false
   },
   "outputs": [],
   "source": [
    "cur_samplings = Dict()\n",
    "\n",
    "for cur_deck in cur_decks\n",
    "    cur_samplings[cur_deck] = make_sampling(cur_deck)\n",
    "end\n",
    "\n",
    "isempty(cur_samplings) || \n",
    "    save(\"../data/samplings_again.jld2\", Dict(\"cur_samplings\" => cur_samplings))\n",
    "\n",
    "return"
   ]
  },
  {
   "cell_type": "markdown",
   "metadata": {},
   "source": [
    "## 4.0 Setup for Plots"
   ]
  },
  {
   "cell_type": "code",
   "execution_count": null,
   "metadata": {},
   "outputs": [],
   "source": [
    "using Interact\n",
    "using Plots\n",
    "using StringCases"
   ]
  },
  {
   "cell_type": "code",
   "execution_count": null,
   "metadata": {},
   "outputs": [],
   "source": [
    "cur_fields = [ \n",
    "    \"T_bar\", \"n_bar\", \"I_P\", \"R_0\", \"B_0\", \"R_CS\",\n",
    "    \"P_F\", \"f_IN\", \"f_BS\", \"f_CD\", \"W_M\", \"cost\", \"eta_CD\",\n",
    "    \"norm_beta_N\", \"norm_q_95\", \"norm_P_E\", \"norm_P_W\", \"b\", \"c\", \"d\", \"P_E\"\n",
    "]\n",
    "\n",
    "cur_fields = map(zz -> Symbol(zz), cur_fields)\n",
    "\n",
    "append!(cur_fields, cur_params)\n",
    "\n",
    "cur_fields = sort(cur_fields)\n",
    "\n",
    "cur_x_list = deepcopy(cur_fields)\n",
    "cur_y_list = deepcopy(cur_fields)\n",
    "\n",
    "deleteat!(cur_x_list, find(cur_field -> cur_field == :B_0, cur_x_list))\n",
    "deleteat!(cur_y_list, find(cur_field -> cur_field == :cost, cur_y_list))\n",
    "\n",
    "deleteat!(cur_x_list, find(cur_field -> cur_field == :cost, cur_x_list))\n",
    "deleteat!(cur_y_list, find(cur_field -> cur_field == :B_0, cur_y_list))\n",
    "\n",
    "unshift!(cur_y_list, :B_0)\n",
    "unshift!(cur_x_list, :cost)\n",
    "\n",
    "unshift!(cur_x_list, :B_0)\n",
    "unshift!(cur_y_list, :cost)\n"
   ]
  },
  {
   "cell_type": "markdown",
   "metadata": {},
   "source": [
    "## 5.0 Make Plot GUI"
   ]
  },
  {
   "cell_type": "code",
   "execution_count": null,
   "metadata": {
    "scrolled": false
   },
   "outputs": [],
   "source": [
    "@manipulate for y in cur_y_list, x in cur_x_list, yscale=[:lin, :log], xscale=[:lin, :log], deck in cur_decks\n",
    "    default_reactor = default_samplings[deck].reactors[1]\n",
    "    default_x = getfield(default_reactor, x)\n",
    "    default_y = getfield(default_reactor, y)\n",
    "    default_c = default_reactor.cost\n",
    "       \n",
    "    work_reactors = deepcopy(cur_samplings[deck].reactors)\n",
    "    sort!(work_reactors, by=(cur_work_reactor -> cur_work_reactor.cost))\n",
    "    \n",
    "    cur_half_count = count(cur_work_reactor -> cur_work_reactor.cost <= default_c, work_reactors)\n",
    "    cur_half_count = max( cur_half_count , Int(ceil(length(work_reactors)/6)) )\n",
    "    work_reactors = work_reactors[1:min(length(work_reactors),2*cur_half_count)]\n",
    "    \n",
    "    cur_diff = abs(default_c - work_reactors[1].cost) * 1.1\n",
    "    filter!(cur_work_reactor -> default_c - cur_diff <= cur_work_reactor.cost <= default_c + cur_diff, work_reactors)\n",
    "    \n",
    "    cur_x = map(cur_reac -> getfield(cur_reac, x), work_reactors)\n",
    "    cur_y = map(cur_reac -> getfield(cur_reac, y), work_reactors)\n",
    "    \n",
    "    cur_w = map(cur_reac -> isapprox(cur_reac.norm_P_W, 1.0, atol=1e-4) ? :circle : :diamond, work_reactors)\n",
    "    \n",
    "    cur_c = map(cur_reac -> -log(cur_reac.cost), work_reactors)\n",
    "    \n",
    "    cur_o = map(cur_reac -> log(cur_reac.cost), work_reactors)\n",
    "    cur_o -= minimum(cur_o)\n",
    "    \n",
    "    cur_o ./= maximum(cur_o)\n",
    "    \n",
    "    cur_o *= -1\n",
    "    cur_o += 1\n",
    "    \n",
    "    cur_o .*= 2\n",
    "    cur_o += 2\n",
    "    \n",
    "    cur_o = map(round, cur_o)\n",
    "    \n",
    "    scatter(cur_x, cur_y, color=:viridis, markersize=cur_o, zcolor=cur_c, label=\"\", markershape=cur_w)\n",
    "    \n",
    "    min_x = minimum(cur_x) < 0 ? minimum(cur_x)*1.3 : ( xscale == :lin ? 0 : minimum(cur_x)*0.7 )\n",
    "    min_y = minimum(cur_y) < 0 ? minimum(cur_y)*1.3 : ( yscale == :lin ? 0 : minimum(cur_y)*0.7 )\n",
    "    \n",
    "    max_x = max(default_x, maximum(cur_x))*1.3\n",
    "    max_y = max(default_y, maximum(cur_y))*1.3\n",
    "    \n",
    "    if xscale == :lin && startswith(string(x), \"f_\")\n",
    "        min_x = 0\n",
    "        max_x = 1.3\n",
    "    end\n",
    "    \n",
    "    if yscale == :log && y == :cost\n",
    "        min_y = 9e-4\n",
    "        max_y = 3e-2\n",
    "    end\n",
    "    \n",
    "    xlims!(min_x, max_x)\n",
    "    ylims!(min_y, max_y)\n",
    "    \n",
    "    xlabel!(string(x))\n",
    "    ylabel!(string(y))\n",
    "    \n",
    "    try\n",
    "        if x == :T_bar\n",
    "            med_x = 20\n",
    "        else\n",
    "            x_index = find(cur_param -> cur_param == x, cur_sampling.parameters)[1]\n",
    "\n",
    "            med_x = cur_sampling.defaults[x_index]\n",
    "        end\n",
    "        \n",
    "        bot_x = med_x * ( 1 - cur_sampling.sensitivity )\n",
    "        top_x = med_x * ( 1 + cur_sampling.sensitivity )\n",
    "        \n",
    "        plot!([med_x, med_x, NaN, bot_x, bot_x, NaN, top_x, top_x], [min_y,max_y, NaN, min_y,max_y, NaN, min_y,max_y],color=:lightblue,label=\"\")\n",
    "    catch\n",
    "    end\n",
    "    \n",
    "    try\n",
    "        if y == :T_bar\n",
    "            med_y = 20\n",
    "        else\n",
    "            y_index = find(cur_param -> cur_param == y, cur_sampling.parameters)[1]\n",
    "\n",
    "            med_y = cur_sampling.defaults[y_index]    \n",
    "        end\n",
    "    \n",
    "        bot_y = med_y * ( 1 - cur_sampling.sensitivity )\n",
    "        top_y = med_y * ( 1 + cur_sampling.sensitivity )\n",
    "        \n",
    "        plot!([min_x,max_x, NaN, min_x,max_x, NaN, min_x,max_x], [med_y, med_y, NaN, bot_y, bot_y, NaN, top_y, top_y],color=:lightblue,label=\"\")\n",
    "    catch\n",
    "    end\n",
    "    \n",
    "    ( xscale == :log ) && plot!(xscale=:log10)\n",
    "    ( yscale == :log ) && plot!(yscale=:log10)\n",
    "    \n",
    "    plot!(color=:default)\n",
    "    plot!([min_x, max_x, NaN, default_x, default_x], [default_y, default_y, NaN, min_y, max_y], color=2, label=\"\")\n",
    "    \n",
    "    if any(tmp_w -> tmp_w == :circle, cur_w)\n",
    "        scatter!([],[],markershape=:circle, label=\"Beta-Wall\", color=:grey)\n",
    "    end\n",
    "    if any(tmp_w -> tmp_w == :diamond, cur_w)\n",
    "        scatter!([],[],markershape=:diamond, label=\"Beta-Kink\", color=:grey)\n",
    "    end\n",
    "    \n",
    "    title!(join(map(capitalize, split(string(deck), \"_\")), \" \"))\n",
    "    plot!()\n",
    "end"
   ]
  },
  {
   "cell_type": "code",
   "execution_count": null,
   "metadata": {},
   "outputs": [],
   "source": []
  }
 ],
 "metadata": {
  "kernelspec": {
   "display_name": "Julia 0.6.2",
   "language": "julia",
   "name": "julia-0.6"
  },
  "language_info": {
   "file_extension": ".jl",
   "mimetype": "application/julia",
   "name": "julia",
   "version": "0.6.2"
  }
 },
 "nbformat": 4,
 "nbformat_minor": 2
}
