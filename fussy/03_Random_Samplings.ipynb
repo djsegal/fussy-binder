{
 "cells": [
  {
   "cell_type": "markdown",
   "metadata": {},
   "source": [
    "# Monte Carlo Sampling\n",
    "\n",
    "Compare with:\n",
    "\n",
    "+ Arc\n",
    "+ Act 1 & 2\n",
    "+ Demo (Pulsed and SS)\n",
    "\n",
    "// also adds prototype reactor designs (proteus and charybdis)"
   ]
  },
  {
   "cell_type": "markdown",
   "metadata": {},
   "source": [
    "## 0.0 Bootup Notebook"
   ]
  },
  {
   "cell_type": "code",
   "execution_count": 1,
   "metadata": {},
   "outputs": [],
   "source": [
    "# if Sys.CPU_CORES != nprocs()\n",
    "#     rmprocs(collect(2:100))\n",
    "#     addprocs(Sys.CPU_CORES-1)\n",
    "# end\n",
    "\n",
    "# addprocs(12)\n",
    "\n",
    "# @everywhere \n",
    "\n",
    "using Fussy\n",
    "Main.IJulia.set_current_module(Fussy)\n",
    "\n",
    "return"
   ]
  },
  {
   "cell_type": "markdown",
   "metadata": {},
   "source": [
    "## 1.0 Set Defaults"
   ]
  },
  {
   "cell_type": "code",
   "execution_count": 2,
   "metadata": {},
   "outputs": [],
   "source": [
    "cur_decks = [\n",
    "    :proteus, # pulsed\n",
    "    :charybdis, # steady state\n",
    "    :arc, \n",
    "    :act_1, \n",
    "    :act_2,\n",
    "    :demo_steady, \n",
    "    :demo_pulsed\n",
    "]\n",
    "\n",
    "cur_sensitivity = 0.35\n",
    "\n",
    "cur_params = [ \n",
    "    :H, :Q, :wave_theta,\n",
    "    :epsilon, :delta_95,\n",
    "    :nu_n, :nu_T, :l_i,\n",
    "    :N_G, :f_D, :Z_eff,\n",
    "    :eta_CD, :B_CS, :tau_FT\n",
    "]\n",
    "\n",
    "return"
   ]
  },
  {
   "cell_type": "markdown",
   "metadata": {},
   "source": [
    "## 2.0 Define Make Function"
   ]
  },
  {
   "cell_type": "code",
   "execution_count": 3,
   "metadata": {},
   "outputs": [
    {
     "ename": "LoadError",
     "evalue": "\u001b[91mUndefVarError: gr not defined\u001b[39m",
     "output_type": "error",
     "traceback": [
      "\u001b[91mUndefVarError: gr not defined\u001b[39m",
      "",
      "Stacktrace:",
      " [1] \u001b[1minclude_string\u001b[22m\u001b[22m\u001b[1m(\u001b[22m\u001b[22m::String, ::String\u001b[1m)\u001b[22m\u001b[22m at \u001b[1m./loading.jl:522\u001b[22m\u001b[22m",
      " [2] \u001b[1mexecute_request\u001b[22m\u001b[22m\u001b[1m(\u001b[22m\u001b[22m::ZMQ.Socket, ::IJulia.Msg\u001b[1m)\u001b[22m\u001b[22m at \u001b[1m/Users/dan/.julia/v0.6/IJulia/src/execute_request.jl:193\u001b[22m\u001b[22m",
      " [3] \u001b[1m(::Compat.#inner#14{Array{Any,1},IJulia.#execute_request,Tuple{ZMQ.Socket,IJulia.Msg}})\u001b[22m\u001b[22m\u001b[1m(\u001b[22m\u001b[22m\u001b[1m)\u001b[22m\u001b[22m at \u001b[1m/Users/dan/.julia/v0.6/Compat/src/Compat.jl:332\u001b[22m\u001b[22m",
      " [4] \u001b[1meventloop\u001b[22m\u001b[22m\u001b[1m(\u001b[22m\u001b[22m::ZMQ.Socket\u001b[1m)\u001b[22m\u001b[22m at \u001b[1m/Users/dan/.julia/v0.6/IJulia/src/eventloop.jl:8\u001b[22m\u001b[22m",
      " [5] \u001b[1m(::IJulia.##13#16)\u001b[22m\u001b[22m\u001b[1m(\u001b[22m\u001b[22m\u001b[1m)\u001b[22m\u001b[22m at \u001b[1m./task.jl:335\u001b[22m\u001b[22m"
     ]
    }
   ],
   "source": [
    "gr()"
   ]
  },
  {
   "cell_type": "code",
   "execution_count": 21,
   "metadata": {
    "scrolled": true
   },
   "outputs": [],
   "source": [
    "import Interact: @manipulate\n",
    "using FileIO\n",
    "using JLD2\n",
    "using Plots\n",
    "using StringCases"
   ]
  },
  {
   "cell_type": "code",
   "execution_count": 5,
   "metadata": {},
   "outputs": [],
   "source": [
    "function make_sampling(cur_deck)\n",
    "    if cur_deck == :demo_pulsed || cur_deck == :proteus || cur_deck == :demo_steady\n",
    "        is_consistent = false\n",
    "    else\n",
    "        is_consistent = true\n",
    "    end\n",
    "    \n",
    "    cur_sampling = Sampling(cur_params; deck=cur_deck, is_consistent=is_consistent, study_count=50)\n",
    "    \n",
    "    cur_sampling\n",
    "end\n",
    "\n",
    "return"
   ]
  },
  {
   "cell_type": "markdown",
   "metadata": {},
   "source": [
    "## 3.0 Get Data"
   ]
  },
  {
   "cell_type": "code",
   "execution_count": 6,
   "metadata": {
    "scrolled": false
   },
   "outputs": [
    {
     "name": "stdout",
     "output_type": "stream",
     "text": [
      "1301 - true\n",
      "701 - true\n",
      "1051 - true\n",
      "1051 - true\n",
      "951 - true\n",
      "1301 - true\n",
      "1051 - true\n",
      "done.\n"
     ]
    }
   ],
   "source": [
    "cur_samplings = nothing \n",
    "\n",
    "try\n",
    "    cur_samplings = load(\"../data/samplings.jld2\", \"cur_samplings\") \n",
    "catch\n",
    "    cur_samplings = Dict()\n",
    "end\n",
    "\n",
    "for cur_deck in cur_decks\n",
    "    haskey(cur_samplings, cur_deck) && continue\n",
    "    println(cur_deck)\n",
    "    \n",
    "    cur_samplings[cur_deck] = make_sampling(cur_deck)\n",
    "    \n",
    "    jldopen(\"../data/samplings.jld2\", \"w\") do work_dict\n",
    "        work_dict[\"cur_samplings\"] = cur_samplings\n",
    "    end\n",
    "end\n",
    "\n",
    "for (cur_key, cur_value) in cur_samplings\n",
    "    for cur_index in 1:cur_value.study_count*100\n",
    "        try\n",
    "            cur_value.wall_reactors[cur_index]\n",
    "        catch cur_error\n",
    "            println(cur_index, \" - \", ( cur_index == cur_value.study_count + 1 ))\n",
    "            break \n",
    "        end\n",
    "        if is_present(cur_value.wall_reactors[cur_index]) && is_present(cur_value.cost_reactors[cur_index])\n",
    "            cur_error = abs(cur_value.wall_reactors[cur_index].cost-cur_value.cost_reactors[cur_index].cost)\n",
    "            ( cur_error < 1e-4 ) && ( cur_value.cost_reactors[cur_index] = nothing )\n",
    "        end\n",
    "        if is_present(cur_value.cost_reactors[cur_index]) && is_present(cur_value.W_M_reactors[cur_index])\n",
    "            cur_error = abs(cur_value.cost_reactors[cur_index].cost-cur_value.W_M_reactors[cur_index].cost)\n",
    "            ( cur_error < 1e-4 ) && ( cur_value.cost_reactors[cur_index] = nothing )\n",
    "        end\n",
    "        if is_present(cur_value.kink_reactors[cur_index]) && is_present(cur_value.W_M_reactors[cur_index])\n",
    "            cur_error = abs(cur_value.kink_reactors[cur_index].cost-cur_value.W_M_reactors[cur_index].cost)\n",
    "            ( cur_error < 1e-4 ) && ( cur_value.W_M_reactors[cur_index] = nothing )\n",
    "        end\n",
    "        if is_present(cur_value.kink_reactors[cur_index]) && is_present(cur_value.cost_reactors[cur_index])\n",
    "            cur_error = abs(cur_value.kink_reactors[cur_index].cost-cur_value.cost_reactors[cur_index].cost)\n",
    "            ( cur_error < 1e-4 ) && ( cur_value.cost_reactors[cur_index] = nothing )\n",
    "        end\n",
    "        if is_present(cur_value.wall_reactors[cur_index]) && is_present(cur_value.W_M_reactors[cur_index])\n",
    "            cur_error = abs(cur_value.wall_reactors[cur_index].cost-cur_value.W_M_reactors[cur_index].cost)\n",
    "            ( cur_error < 1e-4 ) && ( cur_value.W_M_reactors[cur_index] = nothing )\n",
    "        end\n",
    "        if is_present(cur_value.wall_reactors[cur_index]) && is_present(cur_value.kink_reactors[cur_index])\n",
    "            cur_error = abs(cur_value.wall_reactors[cur_index].cost-cur_value.kink_reactors[cur_index].cost)\n",
    "            ( cur_error < 1e-4 ) && ( cur_value.wall_reactors[cur_index] = nothing )\n",
    "        end\n",
    "    end\n",
    "end\n",
    "\n",
    "println(\"done.\")\n",
    "\n",
    "# return"
   ]
  },
  {
   "cell_type": "markdown",
   "metadata": {},
   "source": [
    "## 4.0 Setup for Plots"
   ]
  },
  {
   "cell_type": "code",
   "execution_count": 7,
   "metadata": {},
   "outputs": [
    {
     "data": {
      "text/plain": [
       "35-element Array{Symbol,1}:\n",
       " :cost       \n",
       " :B_0        \n",
       " :B_CS       \n",
       " :H          \n",
       " :I_P        \n",
       " :N_G        \n",
       " :P_E        \n",
       " :P_F        \n",
       " :Q          \n",
       " :R_0        \n",
       " :R_CS       \n",
       " :T_bar      \n",
       " :W_M        \n",
       " ⋮           \n",
       " :f_D        \n",
       " :f_IN       \n",
       " :l_i        \n",
       " :n_bar      \n",
       " :norm_P_E   \n",
       " :norm_P_W   \n",
       " :norm_beta_N\n",
       " :norm_q_95  \n",
       " :nu_T       \n",
       " :nu_n       \n",
       " :tau_FT     \n",
       " :wave_theta "
      ]
     },
     "execution_count": 7,
     "metadata": {},
     "output_type": "execute_result"
    }
   ],
   "source": [
    "cur_fields = [ \n",
    "    \"T_bar\", \"n_bar\", \"I_P\", \"R_0\", \"B_0\", \"R_CS\",\n",
    "    \"P_F\", \"f_IN\", \"f_BS\", \"f_CD\", \"W_M\", \"cost\", \"eta_CD\",\n",
    "    \"norm_beta_N\", \"norm_q_95\", \"norm_P_E\", \"norm_P_W\", \"b\", \"c\", \"d\", \"P_E\"\n",
    "]\n",
    "\n",
    "cur_fields = map(zz -> Symbol(zz), cur_fields)\n",
    "\n",
    "append!(cur_fields, cur_params)\n",
    "\n",
    "cur_fields = sort(cur_fields)\n",
    "\n",
    "cur_x_list = deepcopy(cur_fields)\n",
    "cur_y_list = deepcopy(cur_fields)\n",
    "\n",
    "deleteat!(cur_x_list, find(cur_field -> cur_field == :B_0, cur_x_list))\n",
    "deleteat!(cur_y_list, find(cur_field -> cur_field == :cost, cur_y_list))\n",
    "\n",
    "deleteat!(cur_x_list, find(cur_field -> cur_field == :cost, cur_x_list))\n",
    "deleteat!(cur_y_list, find(cur_field -> cur_field == :B_0, cur_y_list))\n",
    "\n",
    "unshift!(cur_y_list, :B_0)\n",
    "unshift!(cur_x_list, :cost)\n",
    "\n",
    "unshift!(cur_x_list, :B_0)\n",
    "unshift!(cur_y_list, :cost)\n"
   ]
  },
  {
   "cell_type": "markdown",
   "metadata": {},
   "source": [
    "## 5.0 Make Plot GUI"
   ]
  },
  {
   "cell_type": "code",
   "execution_count": 1,
   "metadata": {
    "scrolled": false
   },
   "outputs": [
    {
     "ename": "LoadError",
     "evalue": "\u001b[91mUndefVarError: @manipulate not defined\u001b[39m",
     "output_type": "error",
     "traceback": [
      "\u001b[91mUndefVarError: @manipulate not defined\u001b[39m",
      "",
      "Stacktrace:",
      " [1] \u001b[1minclude_string\u001b[22m\u001b[22m\u001b[1m(\u001b[22m\u001b[22m::String, ::String\u001b[1m)\u001b[22m\u001b[22m at \u001b[1m./loading.jl:522\u001b[22m\u001b[22m",
      " [2] \u001b[1mexecute_request\u001b[22m\u001b[22m\u001b[1m(\u001b[22m\u001b[22m::ZMQ.Socket, ::IJulia.Msg\u001b[1m)\u001b[22m\u001b[22m at \u001b[1m/Users/dan/.julia/v0.6/IJulia/src/execute_request.jl:193\u001b[22m\u001b[22m",
      " [3] \u001b[1m(::Compat.#inner#14{Array{Any,1},IJulia.#execute_request,Tuple{ZMQ.Socket,IJulia.Msg}})\u001b[22m\u001b[22m\u001b[1m(\u001b[22m\u001b[22m\u001b[1m)\u001b[22m\u001b[22m at \u001b[1m/Users/dan/.julia/v0.6/Compat/src/Compat.jl:332\u001b[22m\u001b[22m",
      " [4] \u001b[1meventloop\u001b[22m\u001b[22m\u001b[1m(\u001b[22m\u001b[22m::ZMQ.Socket\u001b[1m)\u001b[22m\u001b[22m at \u001b[1m/Users/dan/.julia/v0.6/IJulia/src/eventloop.jl:8\u001b[22m\u001b[22m",
      " [5] \u001b[1m(::IJulia.##13#16)\u001b[22m\u001b[22m\u001b[1m(\u001b[22m\u001b[22m\u001b[1m)\u001b[22m\u001b[22m at \u001b[1m./task.jl:335\u001b[22m\u001b[22m"
     ]
    }
   ],
   "source": [
    "markers = [:diamond, :square,:circle, :pentagon]\n",
    "limits = true\n",
    "constraints = true\n",
    "\n",
    "@manipulate for y in cur_y_list, x in cur_x_list, z in [:W_M, :P_F, :cost], w in [:P_F, :W_M, :cost], yscale=[:log, :lin], xscale=[:lin, :log], deck in cur_decks, simple=[true,false], legend=[true,false]#, limits=true,constraints=true\n",
    "    plot()\n",
    "    \n",
    "    cur_list = [:kink, :wall, :cost, :W_M]\n",
    "    \n",
    "    this_xx = []\n",
    "    this_yy = []\n",
    "    this_zz = []\n",
    "    this_ww = []\n",
    "    this_ss = []\n",
    "    this_mm = []\n",
    "    this_oo = []\n",
    "    \n",
    "    for (tmp_index, kind) in enumerate(cur_list)\n",
    "        tmp_reacs = deepcopy(getfield(cur_samplings[deck], Symbol(\"$(kind)_reactors\")))\n",
    "        filter!(is_present, tmp_reacs)\n",
    "        filter!(tmp_reac -> tmp_reac.is_valid, tmp_reacs)\n",
    "        filter!(tmp_reac -> tmp_reac.is_good, tmp_reacs)\n",
    "\n",
    "        filter!(tmp_reac -> tmp_reac.B_0 < 25, tmp_reacs)\n",
    "        filter!(tmp_reac -> tmp_reac.R_0 < 25, tmp_reacs)\n",
    "        filter!(tmp_reac -> tmp_reac.cost < 0.1, tmp_reacs)\n",
    "        \n",
    "        filter!(tmp_reac -> tmp_reac.norm_P_E < 0.8, tmp_reacs)\n",
    "        \n",
    "        isempty(tmp_reacs) && continue\n",
    "        \n",
    "        cur_xx = map(tmp_reac -> getfield(tmp_reac, x), tmp_reacs)\n",
    "        cur_yy = map(tmp_reac -> getfield(tmp_reac, y), tmp_reacs)\n",
    "        cur_zz = map(tmp_reac -> getfield(tmp_reac, z), tmp_reacs)\n",
    "        cur_ww = map(tmp_reac -> getfield(tmp_reac, w), tmp_reacs)\n",
    "        \n",
    "        cur_mm = []\n",
    "        for tmp_reac in tmp_reacs\n",
    "            if simple \n",
    "                if isapprox(tmp_reac.norm_beta_N,1.0,rtol=1e-4)\n",
    "                    tmp_m = markers[3] #:beta\n",
    "                elseif isapprox(tmp_reac.norm_P_W,1.0,rtol=1e-4)\n",
    "                    tmp_m = markers[2] #:wall\n",
    "                else\n",
    "                    @assert isapprox(tmp_reac.norm_q_95,1.0,rtol=1e-4)\n",
    "                    tmp_m = markers[1] #:kink\n",
    "                end\n",
    "            else\n",
    "                tmp_m = markers[tmp_index]\n",
    "            end\n",
    "            push!(cur_mm, tmp_m)\n",
    "        end\n",
    "    \n",
    "        append!(this_oo, (tmp_index < 3 ? Int(limits) : Int(constraints))*ones(length(cur_zz)))\n",
    "        append!(this_mm, cur_mm)\n",
    "        append!(this_ss, map(tmp_m -> tmp_m ==:square ? 4/sqrt(2) : 4, cur_mm))\n",
    "#         cur_ww = map(tmp_reac -> log10(getfield(tmp_reac, w)), tmp_reacs)\n",
    "#         cur_ww .-= minimum(cur_ww)\n",
    "#         cur_ww ./= maximum(cur_ww)\n",
    "#         cur_ww .*= -1p\n",
    "#         cur_ww .+= 1\n",
    "\n",
    "#         cur_ww .-= 0.5\n",
    "#         cur_ww *= 2\n",
    "\n",
    "        append!(this_xx, cur_xx)\n",
    "        append!(this_zz, cur_zz)\n",
    "        append!(this_yy, cur_yy)\n",
    "        append!(this_ww, cur_ww)\n",
    "    end\n",
    "    \n",
    "    max_x = maximum(this_xx)\n",
    "    max_y = maximum(this_yy)\n",
    "    \n",
    "    min_x = minimum(this_xx)\n",
    "    min_y = minimum(this_yy)\n",
    "\n",
    "    this_ww = -log10.(this_ww)\n",
    "    \n",
    "    this_ww -= minimum(this_ww)\n",
    "    this_ww /= maximum(this_ww)\n",
    "    \n",
    "    this_ss += 2 * this_ww - 1\n",
    "    \n",
    "#     this_ss += 2\n",
    "    \n",
    "    this_zz = -log10.(this_zz)\n",
    "    println(length(this_zz))\n",
    "    \n",
    "    sort_lists!(this_zz,this_xx,this_yy,this_ss,this_mm,this_oo,this_ww)\n",
    "\n",
    "    this_oo .*= (ceil.((0.6+0.4*this_ww)*10)/10)\n",
    "    this_ss = map(round,this_ss)\n",
    "    \n",
    "    plot!([],[],label=\"color = -log( $z )\", opacity=0)\n",
    "    plot!([],[],label=\"size = a - b * log( $w )\", opacity=0)\n",
    "    plot!([],[],label=\" \", opacity=0)\n",
    "    \n",
    "    for (tmp_index, tmp_label) in enumerate(cur_list)\n",
    "        cur_label = nothing\n",
    "        if simple\n",
    "            ( tmp_index == 4 ) && continue\n",
    "            \n",
    "            cur_label = tmp_index == 3 ? :beta : tmp_label\n",
    "        else\n",
    "            \n",
    "            cur_label = tmp_index < 3 ? \"$(tmp_label)-beta\" : tmp_label\n",
    "        end\n",
    "        scatter!([],[],color=tmp_index < 3 ? tmp_index : tmp_index < 4  ? tmp_index + 1 : tmp_index + 3,label=cur_label,marker=markers[tmp_index])\n",
    "    end\n",
    "    scatter!(this_xx, this_yy,zcolor=this_zz, color=:viridis,markersize=this_ss, markershapes=this_mm, label=\"\",opacity=this_oo, colorbar_title=\"Asdf\")#, markersize=marker_size),marker=markers[tmp_index], label=kind\n",
    "\n",
    "    max_x *= 1.25\n",
    "    max_y *= 1.25\n",
    "    \n",
    "    in(x, [:R_0, :B_0]) && ( max_x = 25 )\n",
    "    in(y, [:R_0, :B_0]) && ( max_y = 25 )\n",
    "    \n",
    "    in(x, [:f_IN, :f_BS, :f_CD, :norm_beta_N, :norm_P_W, :norm_q_95]) && ( max_x = 1.25 )\n",
    "    in(y, [:f_IN, :f_BS, :f_CD, :norm_beta_N, :norm_P_W, :norm_q_95]) && ( max_y = 1.25 )\n",
    "    \n",
    "    ( x == :cost ) && ( max_x = 0.1 )\n",
    "    ( y == :cost ) && ( max_y = 0.1 )\n",
    "    \n",
    "    min_x = xscale == :lin ? 0 : min_x / 1.25\n",
    "    min_y = yscale == :lin ? 0 : min_y / 1.25\n",
    "   \n",
    "    ( x == :cost ) && ( min_x = min(min_x, 0.001) )\n",
    "    ( y == :cost ) && ( min_y = min(min_y, 0.001) )\n",
    "    \n",
    "    xlims!(min_x, max_x)\n",
    "    ylims!(min_y, max_y)\n",
    "    \n",
    "    ( yscale == :lin ) || plot!(yscale = yscale)\n",
    "    ( xscale == :lin ) || plot!(xscale = xscale)\n",
    "    \n",
    "    ylabel!(string(y))\n",
    "    xlabel!(string(x))\n",
    "    \n",
    "    plot!(dpi=450)\n",
    "\n",
    "    cur_title = string(deck)\n",
    "    cur_title = join(map(capitalize,split(cur_title, \"_\")), \" \")\n",
    "    \n",
    "    title!(cur_title)\n",
    "    plot!(legend=legend)\n",
    "end"
   ]
  },
  {
   "cell_type": "code",
   "execution_count": null,
   "metadata": {},
   "outputs": [],
   "source": []
  },
  {
   "cell_type": "code",
   "execution_count": null,
   "metadata": {},
   "outputs": [],
   "source": []
  }
 ],
 "metadata": {
  "kernelspec": {
   "display_name": "Julia 0.6.2",
   "language": "julia",
   "name": "julia-0.6"
  },
  "language_info": {
   "file_extension": ".jl",
   "mimetype": "application/julia",
   "name": "julia",
   "version": "0.6.2"
  }
 },
 "nbformat": 4,
 "nbformat_minor": 2
}
