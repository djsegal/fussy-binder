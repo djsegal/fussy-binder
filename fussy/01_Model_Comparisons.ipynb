{
 "cells": [
  {
   "cell_type": "markdown",
   "metadata": {},
   "source": [
    "# Model Comparisons\n",
    "\n",
    "Compare with:\n",
    "\n",
    "+ Arc\n",
    "+ Act 1 & 2\n",
    "+ Demo (Pulsed and SS)\n",
    "\n",
    "// also adds proto reactor design"
   ]
  },
  {
   "cell_type": "markdown",
   "metadata": {},
   "source": [
    "## 0.0 Bootup Notebook"
   ]
  },
  {
   "cell_type": "code",
   "execution_count": 1,
   "metadata": {},
   "outputs": [],
   "source": [
    "rmprocs(collect(2:Sys.CPU_CORES))\n",
    "addprocs(Sys.CPU_CORES-1)\n",
    "\n",
    "@everywhere using Fussy\n",
    "Main.IJulia.set_current_module(Fussy)\n",
    "\n",
    "return"
   ]
  },
  {
   "cell_type": "markdown",
   "metadata": {},
   "source": [
    "## 1.0 Set Defaults"
   ]
  },
  {
   "cell_type": "code",
   "execution_count": 67,
   "metadata": {},
   "outputs": [],
   "source": [
    "cur_points = 41\n",
    "min_temp = 0\n",
    "max_temp = 40\n",
    "\n",
    "cur_temps = linspace(min_temp, max_temp, cur_points)\n",
    "\n",
    "cur_decks = [:arc, :act_1, :act_2, :demo_pulsed, :demo_steady, :scylla, :charybdis]\n",
    "\n",
    "return"
   ]
  },
  {
   "cell_type": "markdown",
   "metadata": {},
   "source": [
    "## 2.0 Define Make Function"
   ]
  },
  {
   "cell_type": "code",
   "execution_count": 3,
   "metadata": {},
   "outputs": [],
   "source": [
    "function make_scans()\n",
    "    tmp_scans = Dict()\n",
    "\n",
    "    for cur_deck in cur_decks\n",
    "        println(cur_deck)\n",
    "\n",
    "        cur_symbol_pulsed = cur_deck\n",
    "        cur_symbol_simple = Symbol(\"$(cur_deck)_simple\")\n",
    "        cur_symbol_steady = Symbol(\"$(cur_deck)_steady\")\n",
    "\n",
    "        tmp_scans[cur_symbol_pulsed] = Scan(cur_temps, deck=cur_deck, is_pulsed=true, is_consistent=false)\n",
    "        tmp_scans[cur_symbol_simple] = Scan(cur_temps, deck=cur_deck, is_pulsed=false, is_consistent=false)\n",
    "        tmp_scans[cur_symbol_steady] = Scan(cur_temps, deck=cur_deck, is_pulsed=false, is_consistent=true)\n",
    "\n",
    "        sleep(0.25)\n",
    "    end\n",
    "\n",
    "    println(\"done.\")\n",
    "        \n",
    "    tmp_scans\n",
    "end\n",
    "\n",
    "return"
   ]
  },
  {
   "cell_type": "markdown",
   "metadata": {},
   "source": [
    "## 3.0 Get Data"
   ]
  },
  {
   "cell_type": "code",
   "execution_count": 4,
   "metadata": {},
   "outputs": [],
   "source": [
    "cur_solutions = Dict()\n",
    "\n",
    "for cur_deck in cur_decks\n",
    "    tmp_symbol = Symbol(\"$(cur_deck)_solution\")\n",
    "    isdefined(Fussy, tmp_symbol) || continue\n",
    "    cur_solutions[cur_deck] = getfield(Fussy, tmp_symbol)()\n",
    "end\n",
    "\n",
    "return"
   ]
  },
  {
   "cell_type": "code",
   "execution_count": 5,
   "metadata": {},
   "outputs": [],
   "source": [
    "using FileIO\n",
    "using JLD2"
   ]
  },
  {
   "cell_type": "code",
   "execution_count": 6,
   "metadata": {
    "scrolled": false
   },
   "outputs": [
    {
     "name": "stdout",
     "output_type": "stream",
     "text": [
      "act_1\n"
     ]
    },
    {
     "name": "stderr",
     "output_type": "stream",
     "text": [
      "\u001b[32mProgress: 100%|█████████████████████████████████████████| Time: 0:01:46\u001b[39m\n",
      "\u001b[32mProgress: 100%|█████████████████████████████████████████| Time: 0:00:00\u001b[39m\n",
      "\u001b[32mProgress: 100%|█████████████████████████████████████████| Time: 0:01:23\u001b[39m\n"
     ]
    },
    {
     "name": "stdout",
     "output_type": "stream",
     "text": [
      "act_2\n"
     ]
    },
    {
     "name": "stderr",
     "output_type": "stream",
     "text": [
      "\u001b[32mProgress: 100%|█████████████████████████████████████████| Time: 0:01:04\u001b[39m\n",
      "\u001b[32mProgress: 100%|█████████████████████████████████████████| Time: 0:01:06\u001b[39m\n"
     ]
    },
    {
     "name": "stdout",
     "output_type": "stream",
     "text": [
      "demo_steady\n"
     ]
    },
    {
     "name": "stderr",
     "output_type": "stream",
     "text": [
      "\u001b[32mProgress: 100%|█████████████████████████████████████████| Time: 0:01:02\u001b[39m\n",
      "\u001b[32mProgress: 100%|█████████████████████████████████████████| Time: 0:01:11\u001b[39m\n"
     ]
    },
    {
     "name": "stdout",
     "output_type": "stream",
     "text": [
      "demo_pulsed\n"
     ]
    },
    {
     "name": "stderr",
     "output_type": "stream",
     "text": [
      "\u001b[32mProgress: 100%|█████████████████████████████████████████| Time: 0:01:25\u001b[39m\n",
      "\u001b[32mProgress: 100%|█████████████████████████████████████████| Time: 0:01:17\u001b[39m\n"
     ]
    },
    {
     "name": "stdout",
     "output_type": "stream",
     "text": [
      "proteus\n"
     ]
    },
    {
     "name": "stderr",
     "output_type": "stream",
     "text": [
      "\u001b[32mProgress: 100%|█████████████████████████████████████████| Time: 0:01:27\u001b[39m\n",
      "\u001b[32mProgress: 100%|█████████████████████████████████████████| Time: 0:01:16\u001b[39m\n"
     ]
    },
    {
     "name": "stdout",
     "output_type": "stream",
     "text": [
      "charybdis\n"
     ]
    },
    {
     "name": "stderr",
     "output_type": "stream",
     "text": [
      "\u001b[32mProgress: 100%|█████████████████████████████████████████| Time: 0:01:07\u001b[39m\n",
      "\u001b[32mProgress: 100%|█████████████████████████████████████████| Time: 0:00:00\u001b[39m\n",
      "\u001b[32mProgress: 100%|█████████████████████████████████████████| Time: 0:01:24\u001b[39m\n"
     ]
    },
    {
     "name": "stdout",
     "output_type": "stream",
     "text": [
      "arc\n"
     ]
    },
    {
     "name": "stderr",
     "output_type": "stream",
     "text": [
      "\u001b[32mProgress: 100%|█████████████████████████████████████████| Time: 0:01:04\u001b[39m\n",
      "\u001b[32mProgress: 100%|█████████████████████████████████████████| Time: 0:01:17\u001b[39m\n"
     ]
    },
    {
     "name": "stdout",
     "output_type": "stream",
     "text": [
      "done.\n"
     ]
    }
   ],
   "source": [
    "has_scans = isdefined(Fussy, :cur_scans) && !isempty(cur_scans)\n",
    "\n",
    "cur_file = \"../data/comparisons.jld2\"\n",
    "\n",
    "if !has_scans && isfile(cur_file)\n",
    "    has_scans = true\n",
    "    try\n",
    "        cur_scans = load(cur_file, \"cur_scans\")\n",
    "    catch\n",
    "        has_scans = false\n",
    "    end\n",
    "end\n",
    "\n",
    "if !has_scans\n",
    "    cur_scans = make_scans()\n",
    "    save(cur_file, Dict(\"cur_scans\" => cur_scans))\n",
    "end \n",
    "\n",
    "return"
   ]
  },
  {
   "cell_type": "markdown",
   "metadata": {},
   "source": [
    "## 4.0 Prep Plots"
   ]
  },
  {
   "cell_type": "code",
   "execution_count": 12,
   "metadata": {},
   "outputs": [],
   "source": [
    "cur_fields = [ \n",
    "    \"T_bar\", \"n_bar\", \"I_P\", \"R_0\", \"B_0\", \"R_CS\",\n",
    "    \"P_F\", \"f_IN\", \"f_BS\", \"f_CD\", \"W_M\", \"cost\", \"eta_CD\",\n",
    "    \"norm_beta_N\", \"norm_q_95\", \"norm_P_E\", \"norm_P_W\", \"b\", \"c\", \"d\"\n",
    "]\n",
    "\n",
    "sort!(cur_fields)\n",
    "\n",
    "cur_xvars = deepcopy(cur_fields)\n",
    "cur_yvars = deepcopy(cur_fields)\n",
    "\n",
    "filter!(cur_var -> cur_var != \"B_0\", cur_xvars)\n",
    "filter!(cur_var -> cur_var != \"R_0\", cur_yvars)\n",
    "\n",
    "unshift!(cur_xvars, \"B_0\")\n",
    "unshift!(cur_yvars, \"R_0\")\n",
    "\n",
    "return"
   ]
  },
  {
   "cell_type": "code",
   "execution_count": 13,
   "metadata": {},
   "outputs": [
    {
     "data": {
      "text/plain": [
       "Plots.PGFPlotsBackend()"
      ]
     },
     "execution_count": 13,
     "metadata": {},
     "output_type": "execute_result"
    }
   ],
   "source": [
    "using Plots\n",
    "# pgfplots()\n",
    "\n",
    "plotlyjs()"
   ]
  },
  {
   "cell_type": "code",
   "execution_count": 14,
   "metadata": {},
   "outputs": [],
   "source": [
    "using Interact\n",
    "using LaTeXStrings\n",
    "using StringCases"
   ]
  },
  {
   "cell_type": "markdown",
   "metadata": {},
   "source": [
    "## 5.0 Make Plots"
   ]
  },
  {
   "cell_type": "code",
   "execution_count": 81,
   "metadata": {
    "scrolled": false
   },
   "outputs": [
    {
     "data": {
      "application/vnd.jupyter.widget-view+json": {
       "model_id": "44023898-4745-4532-892a-06f430ec4ef4",
       "version_major": 2,
       "version_minor": 0
      }
     },
     "metadata": {},
     "output_type": "display_data"
    },
    {
     "data": {
      "text/html": [],
      "text/plain": [
       "Interact.Options{:ToggleButtons,String}(477: \"input-193\" = B_0 String , \"xvar\", \"B_0\", \"B_0\", 1, Interact.OptionDict(DataStructures.OrderedDict(\"B_0\"=>\"B_0\",\"I_P\"=>\"I_P\",\"P_F\"=>\"P_F\",\"R_0\"=>\"R_0\",\"R_CS\"=>\"R_CS\",\"T_bar\"=>\"T_bar\",\"W_M\"=>\"W_M\",\"b\"=>\"b\",\"c\"=>\"c\",\"cost\"=>\"cost\"…), Dict(\"W_M\"=>\"W_M\",\"I_P\"=>\"I_P\",\"c\"=>\"c\",\"B_0\"=>\"B_0\",\"R_0\"=>\"R_0\",\"b\"=>\"b\",\"n_bar\"=>\"n_bar\",\"eta_CD\"=>\"eta_CD\",\"f_IN\"=>\"f_IN\",\"norm_P_W\"=>\"norm_P_W\"…)), Any[], Any[], true, \"horizontal\", true)"
      ]
     },
     "metadata": {},
     "output_type": "display_data"
    },
    {
     "data": {
      "application/vnd.jupyter.widget-view+json": {
       "model_id": "c49aca2a-e5dc-43a5-b5b4-0a28cbd0d498",
       "version_major": 2,
       "version_minor": 0
      }
     },
     "metadata": {},
     "output_type": "display_data"
    },
    {
     "data": {
      "text/html": [],
      "text/plain": [
       "Interact.Options{:ToggleButtons,String}(479: \"input-194\" = R_0 String , \"yvar\", \"R_0\", \"R_0\", 1, Interact.OptionDict(DataStructures.OrderedDict(\"R_0\"=>\"R_0\",\"B_0\"=>\"B_0\",\"I_P\"=>\"I_P\",\"P_F\"=>\"P_F\",\"R_CS\"=>\"R_CS\",\"T_bar\"=>\"T_bar\",\"W_M\"=>\"W_M\",\"b\"=>\"b\",\"c\"=>\"c\",\"cost\"=>\"cost\"…), Dict(\"W_M\"=>\"W_M\",\"I_P\"=>\"I_P\",\"c\"=>\"c\",\"R_0\"=>\"R_0\",\"B_0\"=>\"B_0\",\"b\"=>\"b\",\"n_bar\"=>\"n_bar\",\"eta_CD\"=>\"eta_CD\",\"f_IN\"=>\"f_IN\",\"norm_P_W\"=>\"norm_P_W\"…)), Any[], Any[], true, \"horizontal\", true)"
      ]
     },
     "metadata": {},
     "output_type": "display_data"
    },
    {
     "data": {
      "application/vnd.jupyter.widget-view+json": {
       "model_id": "34353849-e69b-4cf1-960f-7dbbc213d4a6",
       "version_major": 2,
       "version_minor": 0
      }
     },
     "metadata": {},
     "output_type": "display_data"
    },
    {
     "data": {
      "text/html": [],
      "text/plain": [
       "Interact.Options{:ToggleButtons,Symbol}(481: \"input-195\" = act_1 Symbol , \"deck\", :act_1, \"act_1\", 1, Interact.OptionDict(DataStructures.OrderedDict(\"act_1\"=>:act_1,\"act_2\"=>:act_2,\"arc\"=>:arc,\"charybdis\"=>:charybdis,\"demo_pulsed\"=>:demo_pulsed,\"demo_steady\"=>:demo_steady,\"scylla\"=>:scylla), Dict(:act_1=>\"act_1\",:scylla=>\"scylla\",:demo_steady=>\"demo_steady\",:charybdis=>\"charybdis\",:act_2=>\"act_2\",:arc=>\"arc\",:demo_pulsed=>\"demo_pulsed\")), Any[], Any[], true, \"horizontal\", true)"
      ]
     },
     "metadata": {},
     "output_type": "display_data"
    },
    {
     "data": {
      "application/vnd.jupyter.widget-view+json": {
       "model_id": "8f79cd80-72e5-46c1-b217-b56f33ed522e",
       "version_major": 2,
       "version_minor": 0
      }
     },
     "metadata": {},
     "output_type": "display_data"
    },
    {
     "data": {
      "text/html": [],
      "text/plain": [
       "Interact.Options{:ToggleButtons,Bool}(483: \"input-196\" = false Bool , \"showbad\", false, \"false\", 1, Interact.OptionDict(DataStructures.OrderedDict(\"false\"=>false,\"true\"=>true), Dict(false=>\"false\",true=>\"true\")), Any[], Any[], true, \"horizontal\", true)"
      ]
     },
     "metadata": {},
     "output_type": "display_data"
    },
    {
     "data": {
      "text/html": [
       "<div id=\"29775cf1-4525-442f-9b0f-d4eac850dd1e\" class=\"plotly-graph-div\"></div>\n",
       "\n",
       "<script>\n",
       "    (function() {\n",
       "        var data_29775cf1 = [{\"showlegend\":true,\"mode\":\"lines\",\"xaxis\":\"x\",\"colorbar\":{\"title\":\"\"},\"line\":{\"color\":\"rgba(0, 154, 250, 1.000)\",\"width\":1,\"dash\":\"solid\",\"shape\":\"linear\"},\"y\":[3.854136193188588,4.243756770828068,4.6290943594127905,5.009633594874565,5.385007928295801],\"type\":\"scatter\",\"name\":\"Pulsed -- Wall\",\"yaxis\":\"y\",\"x\":[14.034303862308557,10.876880215403508,8.820344613373434,7.407130248662997,6.395046311787484]},{\"showlegend\":true,\"mode\":\"lines\",\"xaxis\":\"x\",\"colorbar\":{\"title\":\"\"},\"line\":{\"color\":\"rgba(227, 111, 71, 1.000)\",\"width\":1,\"dash\":\"solid\",\"shape\":\"linear\"},\"y\":[4.687392404109618,5.389701677178023,6.1004700316260525,6.814320268986696,7.526598719498705],\"type\":\"scatter\",\"name\":\"Pulsed -- Beta (I)\",\"yaxis\":\"y\",\"x\":[6.900045591722086,6.400991764295229,6.008660088578593,5.695632729535502,5.443106751582332]},{\"showlegend\":true,\"mode\":\"lines\",\"xaxis\":\"x\",\"colorbar\":{\"title\":\"\"},\"line\":{\"color\":\"rgba(62, 164, 78, 1.000)\",\"width\":1,\"dash\":\"dot\",\"shape\":\"linear\"},\"y\":[3.5602829451086984,3.924591249880744,4.287371907643641,4.646144829750606,4.999954988576166,5.348417937225186,5.691413021053748],\"type\":\"scatter\",\"name\":\"Steady -- Wall\",\"yaxis\":\"y\",\"x\":[15.11218787758541,12.0241933293755,9.968058981475087,8.547916968299068,7.530379356615008,6.778146989103745,6.207578395301231]},{\"showlegend\":false,\"mode\":\"lines\",\"xaxis\":\"x\",\"colorbar\":{\"title\":\"\"},\"line\":{\"color\":\"rgba(0, 0, 0, 0.300)\",\"width\":1,\"dash\":\"dash\",\"shape\":\"linear\"},\"y\":[0,30],\"type\":\"scatter\",\"name\":\"\",\"yaxis\":\"y\",\"x\":[6.0,6.0]},{\"showlegend\":false,\"mode\":\"lines\",\"xaxis\":\"x\",\"colorbar\":{\"title\":\"\"},\"line\":{\"color\":\"rgba(0, 0, 0, 0.300)\",\"width\":1,\"dash\":\"dash\",\"shape\":\"linear\"},\"y\":[6.25,6.25],\"type\":\"scatter\",\"name\":\"\",\"yaxis\":\"y\",\"x\":[0,30]},{\"showlegend\":false,\"mode\":\"markers\",\"xaxis\":\"x\",\"colorbar\":{\"title\":\"\"},\"x\":[6.0],\"y\":[6.25],\"type\":\"scatter\",\"name\":\"\",\"yaxis\":\"y\",\"marker\":{\"symbol\":\"circle\",\"color\":[\"rgba(0, 0, 0, 0.300)\"],\"line\":{\"color\":[\"rgba(0, 0, 0, 0.300)\"],\"width\":1},\"size\":8}},{\"showlegend\":true,\"mode\":\"lines\",\"xaxis\":\"x\",\"colorbar\":{\"title\":\"\"},\"line\":{\"color\":\"rgba(0, 0, 0, 0.300)\",\"width\":1,\"dash\":\"solid\",\"shape\":\"linear\"},\"y\":[0,0],\"type\":\"scatter\",\"name\":\"Model\",\"yaxis\":\"y\",\"x\":[0,0]}];\n",
       "var layout_29775cf1 = {\"showlegend\":true,\"xaxis\":{\"showticklabels\":true,\"gridwidth\":0.5,\"tickvals\":[0.0,10.0,20.0,30.0],\"visible\":true,\"ticks\":\"inside\",\"range\":[0.0,30.0],\"domain\":[0.061654272382618835,0.9934383202099737],\"tickmode\":\"array\",\"linecolor\":\"rgba(0, 0, 0, 1.000)\",\"showgrid\":true,\"title\":\"B_0\",\"mirror\":false,\"tickangle\":0,\"showline\":true,\"gridcolor\":\"rgba(0, 0, 0, 0.100)\",\"titlefont\":{\"color\":\"rgba(0, 0, 0, 1.000)\",\"family\":\"sans-serif\",\"size\":15},\"tickcolor\":\"rgb(0, 0, 0)\",\"ticktext\":[\"0\",\"10\",\"20\",\"30\"],\"zeroline\":false,\"type\":\"-\",\"tickfont\":{\"color\":\"rgba(0, 0, 0, 1.000)\",\"family\":\"sans-serif\",\"size\":11},\"zerolinecolor\":\"rgba(0, 0, 0, 1.000)\",\"anchor\":\"y\"},\"paper_bgcolor\":\"rgba(255, 255, 255, 1.000)\",\"annotations\":[{\"yanchor\":\"top\",\"xanchor\":\"center\",\"rotation\":-0.0,\"y\":1.0,\"font\":{\"color\":\"rgba(0, 0, 0, 1.000)\",\"family\":\"sans-serif\",\"size\":20},\"yref\":\"paper\",\"showarrow\":false,\"text\":\"Act 1\",\"xref\":\"paper\",\"x\":0.5275462962962963}],\"height\":400,\"margin\":{\"l\":0,\"b\":20,\"r\":0,\"t\":20},\"plot_bgcolor\":\"rgba(255, 255, 255, 1.000)\",\"yaxis\":{\"showticklabels\":true,\"gridwidth\":0.5,\"tickvals\":[0.0,10.0,20.0,30.0],\"visible\":true,\"ticks\":\"inside\",\"range\":[0.0,30.0],\"domain\":[0.07581474190726165,0.9415463692038496],\"tickmode\":\"array\",\"linecolor\":\"rgba(0, 0, 0, 1.000)\",\"showgrid\":true,\"title\":\"R_0\",\"mirror\":false,\"tickangle\":0,\"showline\":true,\"gridcolor\":\"rgba(0, 0, 0, 0.100)\",\"titlefont\":{\"color\":\"rgba(0, 0, 0, 1.000)\",\"family\":\"sans-serif\",\"size\":15},\"tickcolor\":\"rgb(0, 0, 0)\",\"ticktext\":[\"0\",\"10\",\"20\",\"30\"],\"zeroline\":false,\"type\":\"-\",\"tickfont\":{\"color\":\"rgba(0, 0, 0, 1.000)\",\"family\":\"sans-serif\",\"size\":11},\"zerolinecolor\":\"rgba(0, 0, 0, 1.000)\",\"anchor\":\"x\"},\"legend\":{\"bordercolor\":\"rgba(0, 0, 0, 1.000)\",\"bgcolor\":\"rgba(255, 255, 255, 1.000)\",\"font\":{\"color\":\"rgba(0, 0, 0, 1.000)\",\"family\":\"sans-serif\",\"size\":11},\"y\":1.0,\"x\":1.0},\"width\":600};\n",
       "\n",
       "        if (!requirejs.specified('plotly')) {\n",
       "          requirejs.config({\n",
       "            paths: {\n",
       "              'plotly_cdn': ['https://cdn.plot.ly/plotly-latest.min']\n",
       "            },\n",
       "          });\n",
       "          require(['plotly_cdn'], function(Plotly) {\n",
       "            Plotly.newPlot('29775cf1-4525-442f-9b0f-d4eac850dd1e',\n",
       "    data_29775cf1, layout_29775cf1,\n",
       "    {showLink: false}\n",
       ");\n",
       "\n",
       "          });\n",
       "        } else {\n",
       "          require(['plotly'], function(Plotly) {\n",
       "            Plotly.newPlot('29775cf1-4525-442f-9b0f-d4eac850dd1e',\n",
       "    data_29775cf1, layout_29775cf1,\n",
       "    {showLink: false}\n",
       ");\n",
       "\n",
       "            if (window.Plotly == undefined) {\n",
       "                window.Plotly = Plotly;\n",
       "            }\n",
       "          });\n",
       "        }\n",
       "    })();\n",
       " </script>\n"
      ]
     },
     "execution_count": 81,
     "metadata": {
      "comm_id": "f06bd86e-2af5-449f-b896-b527c7695b1a",
      "reactive": true
     },
     "output_type": "execute_result"
    }
   ],
   "source": [
    "@manipulate for xvar in cur_xvars, yvar in cur_yvars, deck in sort(cur_decks), showbad=[false,true]\n",
    "    plot()\n",
    "    \n",
    "    cur_modes = Dict(\n",
    "        \"\" => :solid\n",
    "    )\n",
    "    \n",
    "    if startswith(string(deck), \"demo\")\n",
    "        cur_modes[\"_simple\"] = :dot\n",
    "    else\n",
    "        cur_modes[\"_steady\"] = :dot\n",
    "    end\n",
    "    \n",
    "    max_x = 0\n",
    "    max_y = 0\n",
    "    \n",
    "    for (cur_super_key, cur_super_value) in cur_modes\n",
    "        \n",
    "        ( cur_super_key != \"_steady\" && ( xvar == \"eta_CD\" || yvar == \"eta_CD\" ) ) && continue\n",
    "        \n",
    "        tmp_scan = cur_scans[Symbol(\"$(deck)$(cur_super_key)\")]\n",
    "\n",
    "        tmp_dict = Dict(\n",
    "            \"beta\" => tmp_scan.beta_reactors,\n",
    "            \"kink\" => tmp_scan.kink_reactors,\n",
    "            \"wall\" => tmp_scan.wall_reactors\n",
    "        )\n",
    "\n",
    "        for (cur_key, cur_value) in tmp_dict\n",
    "            max_branches = maximum(map(tmp_reactor -> tmp_reactor.branch_id, cur_value))\n",
    "\n",
    "            for cur_branch in 1:max_branches\n",
    "                tmp_reactors = filter(tmp_value -> tmp_value.branch_id == cur_branch, cur_value)\n",
    "\n",
    "                filter!(tmp_reactor -> tmp_reactor.B_0 < 40, tmp_reactors)\n",
    "                filter!(tmp_reactor -> tmp_reactor.R_0 < 40, tmp_reactors)\n",
    "                \n",
    "                tmp_v = map(tmp_reactor -> tmp_reactor.is_valid, tmp_reactors)\n",
    "                ( ( showbad ? length(tmp_reactors) : count(tmp_v) ) > 2 ) || continue\n",
    "\n",
    "                tmp_x = map(tmp_reactor -> getfield(tmp_reactor, Symbol(xvar)), tmp_reactors)\n",
    "                tmp_y = map(tmp_reactor -> getfield(tmp_reactor, Symbol(yvar)), tmp_reactors)\n",
    "\n",
    "                tmp_t = map(tmp_reactor -> tmp_reactor.T_bar, tmp_reactors)\n",
    "                tmp_i = map(tmp_reactor -> tmp_reactor.I_P, tmp_reactors)\n",
    "\n",
    "                sort_lists!(tmp_t, tmp_v, tmp_x, tmp_y, tmp_i)\n",
    "\n",
    "                if showbad\n",
    "                    first_index = 1\n",
    "                    last_index = length(tmp_reactors)\n",
    "                else\n",
    "                    first_index = minimum(find(tmp_v))\n",
    "                    last_index = maximum(find(tmp_v))\n",
    "                end\n",
    "\n",
    "\n",
    "                ( first_index == 1 ) || ( first_index -= 1 )\n",
    "                ( last_index == length(tmp_reactors) ) || ( last_index += 1 )\n",
    "                \n",
    "                tmp_x = tmp_x[first_index:last_index]\n",
    "                tmp_y = tmp_y[first_index:last_index]\n",
    "                \n",
    "                tmp_v = tmp_v[first_index:last_index]\n",
    "                \n",
    "                max_x = max(max_x, maximum(tmp_x))\n",
    "                max_y = max(max_y, maximum(tmp_y))\n",
    "\n",
    "                cur_prefix = cur_super_key == \"\" ? \"Pulsed\" : ( cur_super_key == \"_steady\" ) ? \"Steady\" : \"Simple\"\n",
    "                cur_label = \"$(cur_prefix) -- $(capitalize(cur_key))\"\n",
    "                ( max_branches > 1 ) && ( cur_label *= \" ($(romanize(cur_branch)))\" )\n",
    "                \n",
    "                plot!(tmp_x, tmp_y, label=cur_label, style=cur_super_value)\n",
    "            end\n",
    "        end\n",
    "        \n",
    "    end\n",
    "    \n",
    "    min_x = 0\n",
    "    min_y = 0\n",
    "    \n",
    "    max_x *= 1.4\n",
    "    max_y *= 1.4\n",
    "    \n",
    "    ( xvar == \"P_F\" ) || \n",
    "        ( max_x = min(30, max_x) )\n",
    "    \n",
    "    ( yvar == \"P_F\" ) || \n",
    "        ( max_y = min(30, max_y) )\n",
    "    \n",
    "    ( xvar == \"W_M\" ) && ( max_x = 150 )\n",
    "    ( yvar == \"W_M\" ) && ( max_y = 150 )\n",
    "    \n",
    "    ( xvar == \"R_0\" || xvar == \"B_0\" ) && ( max_x = 30 )\n",
    "    ( yvar == \"R_0\" || yvar == \"B_0\" ) && ( max_y = 30 )\n",
    "    \n",
    "    if startswith(xvar, \"norm_\")\n",
    "        max_x = 2.0 \n",
    "    elseif startswith(xvar, \"f_\")\n",
    "        max_x = 1.0\n",
    "    elseif xvar == \"cost\"\n",
    "        max_x = 0.1\n",
    "    end\n",
    "    \n",
    "    if startswith(yvar, \"norm_\")\n",
    "        max_y = 2.0 \n",
    "    elseif startswith(yvar, \"f_\")\n",
    "        max_y = 1.0\n",
    "    elseif yvar == \"cost\"\n",
    "        max_y = 0.1\n",
    "    end\n",
    "    \n",
    "    if haskey(cur_solutions, deck)\n",
    "        cur_soln = cur_solutions[deck]\n",
    "        cur_soln_x = getfield(cur_soln, Symbol(xvar))\n",
    "        cur_soln_y = getfield(cur_soln, Symbol(yvar))\n",
    "        \n",
    "        ( cur_soln_x != nothing ) &&\n",
    "            plot!([cur_soln_x, cur_soln_x], [min_y, max_y], color=:black, opacity=0.3, label=\"\", style=:dash)\n",
    "        \n",
    "        ( cur_soln_y != nothing ) &&\n",
    "            plot!([min_x, max_x], [cur_soln_y, cur_soln_y], color=:black, opacity=0.3, label=\"\", style=:dash)\n",
    "        \n",
    "        ( cur_soln_x != nothing && cur_soln_y != nothing ) &&\n",
    "            scatter!([cur_soln_x], [cur_soln_y], color=:black, opacity=0.3, label=\"\")\n",
    "        \n",
    "        plot!([0,0], [0,0], color=:black, opacity=0.3, label=\"Model\")\n",
    "    end\n",
    "    \n",
    "    xlims!(min_x, max_x)\n",
    "    ylims!(min_y, max_y)\n",
    "    \n",
    "    xname = xvar\n",
    "    yname = yvar\n",
    "\n",
    "    xlabel!(xname)\n",
    "    ylabel!(yname)\n",
    "    \n",
    "    xname = replace(xname, \"eta_CD\", \"\\\\eta_{CD}\")\n",
    "    yname = replace(yname, \"eta_CD\", \"\\\\eta_{CD}\")\n",
    "    \n",
    "    xname = replace(xname, \"95\", \"{95}\")\n",
    "    yname = replace(yname, \"95\", \"{95}\")\n",
    "\n",
    "    xname = replace(xname, \"beta\", \"\\\\beta\")\n",
    "    yname = replace(yname, \"beta\", \"\\\\beta\")\n",
    "    \n",
    "    endswith(xname, \"_bar\") && ( xname = \"\\\\overline $(split(xname, \"_\")[1])\" )\n",
    "    endswith(yname, \"_bar\") && ( yname = \"\\\\overline $(split(yname, \"_\")[1])\" )\n",
    "    \n",
    "    startswith(xname, \"norm_\") && ( xname = \"\\\\left( $(replace(xname, \"norm_\", \"\")) \\\\right)_{norm}\" )\n",
    "    startswith(yname, \"norm_\") && ( yname = \"\\\\left( $(replace(yname, \"norm_\", \"\")) \\\\right)_{norm}\" )\n",
    "    \n",
    "    startswith(xname, \"f_\") && ( xname = join(map(cur_string -> \"{$(cur_string)}\", split(xname, \"_\")), \"_\") )\n",
    "    startswith(yname, \"f_\") && ( yname = join(map(cur_string -> \"{$(cur_string)}\", split(yname, \"_\")), \"_\") )\n",
    "    \n",
    "#     xlabel!(latexstring(xname))\n",
    "#     ylabel!(latexstring(yname))\n",
    "    \n",
    "    cur_title = join(map(capitalize, split(string(deck), \"_\")), \" \")\n",
    "    title!(cur_title)\n",
    "    \n",
    "    plot!()\n",
    "end"
   ]
  },
  {
   "cell_type": "code",
   "execution_count": null,
   "metadata": {},
   "outputs": [],
   "source": []
  }
 ],
 "metadata": {
  "kernelspec": {
   "display_name": "Julia 0.6.2",
   "language": "julia",
   "name": "julia-0.6"
  },
  "language_info": {
   "file_extension": ".jl",
   "mimetype": "application/julia",
   "name": "julia",
   "version": "0.6.2"
  }
 },
 "nbformat": 4,
 "nbformat_minor": 2
}
