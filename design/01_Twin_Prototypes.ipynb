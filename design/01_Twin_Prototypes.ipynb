{
 "cells": [
  {
   "cell_type": "code",
   "execution_count": null,
   "metadata": {},
   "outputs": [],
   "source": [
    "addprocs(8)\n",
    "\n",
    "@everywhere using Fussy\n",
    "Main.IJulia.set_current_module(Fussy)\n",
    "\n",
    "return"
   ]
  },
  {
   "cell_type": "code",
   "execution_count": null,
   "metadata": {},
   "outputs": [],
   "source": [
    "using FileIO\n",
    "using JLD2"
   ]
  },
  {
   "cell_type": "code",
   "execution_count": null,
   "metadata": {
    "scrolled": true
   },
   "outputs": [],
   "source": [
    "cur_plots = []\n",
    "use_latex = false\n",
    "\n",
    "for cur_y_var in [:P_F, :cost]\n",
    "    for (cur_index, cur_study) in enumerate([proteus_study, charybdis_study])\n",
    "        push!(cur_plots, plot())\n",
    "        for (cur_sub_index, cur_label) in enumerate([ :wall, :kink, :cost, :W_M ])\n",
    "            tmp_reactors = getfield(cur_study, Symbol(\"$(cur_label)_reactors\"))\n",
    "            iszero(length(tmp_reactors)) && continue\n",
    "\n",
    "            if cur_y_var == :P_F\n",
    "                ylims = [0, 5000]\n",
    "                if cur_sub_index == 1\n",
    "                    dash_label = ( cur_index == 1 ) ? \"B_{CS} = 20 T\" : \"H = 1.7\"\n",
    "                    use_latex && ( dash_label = latexstring(dash_label) )\n",
    "                else\n",
    "                    dash_label = \"\"\n",
    "                end\n",
    "            else\n",
    "                ylims = [0, 0.025]\n",
    "                dash_label = \"\"\n",
    "            end\n",
    "            ylims!(ylims...)\n",
    "            \n",
    "            if cur_index == 1\n",
    "                cur_xx = map(tmp_reactor -> tmp_reactor.B_CS, tmp_reactors)\n",
    "                plot!([1,1]*20,ylims, color=5, lineopacity=0.2, label=dash_label)\n",
    "            else\n",
    "                cur_xx = map(tmp_reactor -> tmp_reactor.H, tmp_reactors)\n",
    "                plot!([1,1]*1.7,ylims, color=5, lineopacity=0.2, label=dash_label)\n",
    "            end\n",
    "\n",
    "            if cur_y_var == :P_F\n",
    "                cur_yy = map(tmp_reactor -> tmp_reactor.P_F, tmp_reactors)\n",
    "                ylabel!(use_latex ? L\"P_F\" : \"P_F\")\n",
    "                plot!([0, maximum(cur_xx)],[1250,1250], color=5, lineopacity=0.2, label=\"\")\n",
    "            else\n",
    "                cur_yy = map(tmp_reactor -> tmp_reactor.cost, tmp_reactors)\n",
    "                ylabel!(\"cost\")\n",
    "            end\n",
    "            \n",
    "            if cur_y_var == :P_F && cur_sub_index == 1\n",
    "                if cur_index == 1\n",
    "                    cur_x_scatter = 20\n",
    "                else\n",
    "                    cur_x_scatter = 1.7\n",
    "                end\n",
    "                \n",
    "                scatter!([cur_x_scatter], [1250], color=6, label=\"\")\n",
    "            end\n",
    "            \n",
    "            if cur_sub_index < 3 \n",
    "                cur_width = 2\n",
    "                cur_style = :dash\n",
    "            else\n",
    "                cur_width = 1\n",
    "                cur_style = :solid\n",
    "            end\n",
    "            \n",
    "            if cur_y_var == :P_F\n",
    "                if cur_index == 1\n",
    "                    title!(\"Proteus (Pulsed)\")\n",
    "                else\n",
    "                    title!(\"Charybdis (Steady)\")\n",
    "                end\n",
    "                plot!(cur_xx, cur_yy, label=\"\", color=cur_sub_index, lineopacity=0.6, width=cur_width, style=cur_style)\n",
    "            else\n",
    "                if cur_index == 1\n",
    "                    xlabel!(use_latex ? L\"B_{CS}\" : \"B_CS\")\n",
    "                else\n",
    "                    xlabel!(\"H\")\n",
    "                end\n",
    "                plot!(cur_xx, cur_yy, label=use_latex ? latexstring(cur_label) : cur_label, color=cur_sub_index, lineopacity=0.6, width=cur_width, style=cur_style)\n",
    "            end\n",
    "            xlims!(0, maximum(cur_xx))\n",
    "        end\n",
    "    end\n",
    "end\n",
    "actual_plot = plot(cur_plots...)\n",
    "# savefig(actual_plot, \"pulsed_vs_steady\")\n",
    "# plot!()"
   ]
  },
  {
   "cell_type": "code",
   "execution_count": null,
   "metadata": {},
   "outputs": [],
   "source": [
    "gr()"
   ]
  },
  {
   "cell_type": "code",
   "execution_count": null,
   "metadata": {},
   "outputs": [],
   "source": [
    "using LaTeXStrings"
   ]
  },
  {
   "cell_type": "code",
   "execution_count": null,
   "metadata": {},
   "outputs": [],
   "source": [
    "using Plots"
   ]
  },
  {
   "cell_type": "code",
   "execution_count": null,
   "metadata": {},
   "outputs": [],
   "source": [
    "match(Reactor(:T_bar, deck=:charybdis, constraint=:wall, H=0.4857142857142857), :cost, 0.04)"
   ]
  },
  {
   "cell_type": "code",
   "execution_count": null,
   "metadata": {
    "scrolled": true
   },
   "outputs": [],
   "source": [
    "proteus_study = Study(:B_CS, B_CS=15.0, num_points=41, deck=:proteus, is_fast=false, sensitivity=1.0)\n"
   ]
  },
  {
   "cell_type": "code",
   "execution_count": null,
   "metadata": {
    "scrolled": true
   },
   "outputs": [],
   "source": [
    "charybdis_study = Study(:H, H=1.5, num_points=41, deck=:charybdis, is_fast=false, sensitivity=1.0, is_consistent=true, is_parallel = true)\n",
    "\n"
   ]
  },
  {
   "cell_type": "code",
   "execution_count": null,
   "metadata": {},
   "outputs": [],
   "source": []
  },
  {
   "cell_type": "code",
   "execution_count": null,
   "metadata": {},
   "outputs": [],
   "source": [
    "proto_studies = Dict(\n",
    "    :charybdis => charybdis_study,\n",
    "    :proteus => proteus_study,\n",
    ")\n",
    "\n",
    "cur_file = \"../data/prototypes.jld2\"\n",
    "\n",
    "# cur_calibrations = nothing\n",
    "# try\n",
    "#     cur_calibrations = load(cur_file, \"cur_calibrations\")\n",
    "# catch\n",
    "#     cur_calibrations = Dict()\n",
    "# end\n",
    "\n",
    "# save(cur_file, Dict(\"cur_calibrations\" => deepcopy(cur_calibrations)))\n",
    "\n",
    "save(cur_file, Dict(\"proto_studies\" => deepcopy(proto_studies)))\n"
   ]
  },
  {
   "cell_type": "code",
   "execution_count": null,
   "metadata": {},
   "outputs": [],
   "source": [
    "cur_prototypes = [\"proteus\", \"charybdis\"]\n",
    "cur_secondaries = [\"kink\", \"wall\"]\n",
    "\n",
    "for cur_prototype in cur_prototypes\n",
    "    println(cur_prototype)\n",
    "    for cur_secondary in cur_secondaries\n",
    "        ( cur_prototype == \"charybdis\" && cur_secondary == \"kink\" ) && continue\n",
    "        println(cur_secondary)\n",
    "        \n",
    "        cur_key = \"$(cur_prototype)_$(cur_secondary)\"\n",
    "        haskey(cur_calibrations, cur_key) && continue\n",
    "        \n",
    "        cur_is_consistent = ( cur_prototype == \"charybdis\" )\n",
    "        cur_calibrations[cur_key] = Calibration(\n",
    "            cur_power_list; \n",
    "            deck=Symbol(cur_prototype), \n",
    "            matched_constraint=Symbol(cur_secondary),\n",
    "            is_consistent=cur_is_consistent, \n",
    "            constraint=:beta\n",
    "        )\n",
    "    end\n",
    "    println(\"done.\\n\")\n",
    "end\n"
   ]
  },
  {
   "cell_type": "code",
   "execution_count": null,
   "metadata": {
    "scrolled": false
   },
   "outputs": [],
   "source": [
    "cur_prototypes = [\"proteus\", \"charybdis\"]\n",
    "cur_secondaries = [\"kink\", \"beta\", \"wall\"]\n",
    "\n",
    "cur_costs = collect(10:10:100)\n",
    "\n",
    "for cur_prototype in cur_prototypes\n",
    "    println(cur_prototype)\n",
    "    \n",
    "    for cur_secondary in cur_secondaries\n",
    "        println(cur_secondary)\n",
    "        \n",
    "        ( cur_prototype == \"charybdis\" && cur_secondary == \"kink\" ) && continue\n",
    "        tmp_power_list = cur_power_list\n",
    "        \n",
    "        for cur_cost in cur_costs\n",
    "            println(cur_cost) \n",
    "            \n",
    "            cur_key = \"$(cur_prototype)_$(cur_secondary)_cost_$(lpad(cur_cost,3,0))\"\n",
    "            haskey(cur_calibrations, cur_key) && continue\n",
    "            \n",
    "            cur_is_consistent = ( cur_prototype == \"charybdis\" )\n",
    "            cur_calibrations[cur_key] = Calibration(\n",
    "                tmp_power_list; \n",
    "                deck=Symbol(cur_prototype), \n",
    "                matched_constraint=:cost, \n",
    "                constraint_value=(cur_cost/10000),\n",
    "                is_consistent=cur_is_consistent, \n",
    "                constraint=Symbol(cur_secondary)\n",
    "            )\n",
    "            \n",
    "            sleep(0.1)\n",
    "        end\n",
    "        \n",
    "    end\n",
    "    \n",
    "    println(\"done.\\n\")\n",
    "    save(cur_file, Dict(\"cur_calibrations\" => deepcopy(cur_calibrations)))\n",
    "end\n"
   ]
  },
  {
   "cell_type": "code",
   "execution_count": null,
   "metadata": {
    "scrolled": false
   },
   "outputs": [],
   "source": [
    "for cur_proto in [\"proteus\"]#, \"charybdis\"]\n",
    "    for cur_milli_cost in [7] # 1:2:15\n",
    "        cur_name = \"$(cur_proto)_cost_$(cur_milli_cost)\"\n",
    "        println(cur_name)\n",
    "        \n",
    "        if !haskey(cur_calibrations, cur_name)\n",
    "            println(cur_milli_cost/1000)\n",
    "            cur_calibrations[cur_name] = Calibration(cur_power_list; deck=Symbol(cur_proto), constraint=:beta, matched_constraint=:cost, constraint_value=cur_milli_cost/1000)\n",
    "        end \n",
    "        \n",
    "        break\n",
    "    end\n",
    "end"
   ]
  },
  {
   "cell_type": "code",
   "execution_count": null,
   "metadata": {},
   "outputs": [],
   "source": [
    "save(cur_file, Dict(\"cur_calibrations\" => cur_calibrations))\n"
   ]
  },
  {
   "cell_type": "code",
   "execution_count": null,
   "metadata": {
    "scrolled": false
   },
   "outputs": [],
   "source": [
    "\n",
    "\n",
    "println(\"charybdis_H\")\n",
    "# if !haskey(cur_calibrations, \"charybdis_H\")\n",
    "    cur_calibrations[\"charybdis_H\"] = Calibration(cur_power_list; deck=:charybdis, is_consistent=true)\n",
    "# end\n",
    "\n",
    "println(\"scylla_B_CS\")\n",
    "# if !haskey(cur_calibrations, \"scylla_B_CS\")\n",
    "    cur_calibrations[\"scylla_B_CS\"] = Calibration(cur_power_list; deck=:scylla, H=1.0, constraint=:beta)\n",
    "# end\n",
    "\n",
    "println(\"scylla_B_CS_Kink\")\n",
    "# if !haskey(cur_calibrations, \"scylla_B_CS_Kink\")\n",
    "    cur_calibrations[\"scylla_B_CS_Kink\"] = Calibration(cur_power_list; deck=:scylla, H=1.0, constraint=:beta, matched_constraint=:kink)\n",
    "# end\n",
    "\n",
    "save(cur_file, Dict(\"cur_calibrations\" => cur_calibrations))\n",
    "\n",
    "return"
   ]
  },
  {
   "cell_type": "code",
   "execution_count": null,
   "metadata": {},
   "outputs": [],
   "source": [
    "cur_calibrations"
   ]
  },
  {
   "cell_type": "code",
   "execution_count": null,
   "metadata": {},
   "outputs": [],
   "source": [
    "save(cur_file, Dict(\"cur_calibrations\" => cur_calibrations))"
   ]
  },
  {
   "cell_type": "code",
   "execution_count": null,
   "metadata": {},
   "outputs": [],
   "source": [
    "using Plots"
   ]
  },
  {
   "cell_type": "code",
   "execution_count": null,
   "metadata": {},
   "outputs": [],
   "source": [
    "map(xx->xx.B_CS,cur_calibrations[\"scylla_B_CS_B_0_4_5\"].reactors)"
   ]
  },
  {
   "cell_type": "code",
   "execution_count": null,
   "metadata": {
    "scrolled": false
   },
   "outputs": [],
   "source": [
    "\n",
    "using LaTeXStrings\n",
    "Plots.pgfplots()\n",
    "\n",
    "min_P_F = minimum(map(cur_reactor -> cur_reactor.P_F, cur_calibrations[\"scylla_B_CS\"].reactors))\n",
    "max_P_F = maximum(map(cur_reactor -> cur_reactor.P_F, cur_calibrations[\"charybdis_H\"].reactors))\n",
    "\n",
    "return"
   ]
  },
  {
   "cell_type": "code",
   "execution_count": null,
   "metadata": {},
   "outputs": [],
   "source": [
    "cur_scylla_plot = plot()\n",
    "\n",
    "cur_x_w = map(cur_reactor -> cur_reactor.P_F, cur_calibrations[\"scylla_B_CS\"].reactors)\n",
    "cur_y_w = map(cur_reactor -> cur_reactor.B_CS, cur_calibrations[\"scylla_B_CS\"].reactors)\n",
    "\n",
    "plot!(cur_x_w, cur_y_w, label=\"Beta-Wall Limit\")\n",
    "\n",
    "cur_x_k = map(cur_reactor -> cur_reactor.P_F, cur_calibrations[\"scylla_B_CS_Kink\"].reactors)\n",
    "cur_y_k = map(cur_reactor -> cur_reactor.B_CS, cur_calibrations[\"scylla_B_CS_Kink\"].reactors)\n",
    "\n",
    "plot!(cur_x_k, cur_y_k, label=\"Beta-Kink Limit\")\n",
    "\n",
    "# cur_x_b_1 = map(cur_reactor -> cur_reactor.P_F, cur_calibrations[\"scylla_B_CS_B_0_4_5\"].reactors)\n",
    "# cur_y_b_1 = map(cur_reactor -> cur_reactor.B_CS, cur_calibrations[\"scylla_B_CS_B_0_4_5\"].reactors)\n",
    "\n",
    "# plot!(cur_x_b_1, cur_y_b_1, label=L\"B_0 = 4.5\", style=:dash)\n",
    "\n",
    "# cur_x_b_2 = map(cur_reactor -> cur_reactor.P_F, cur_calibrations[\"scylla_B_CS_B_0_5_5\"].reactors)\n",
    "# cur_y_b_2 = map(cur_reactor -> cur_reactor.B_CS, cur_calibrations[\"scylla_B_CS_B_0_5_5\"].reactors)\n",
    "\n",
    "# plot!(cur_x_b_2, cur_y_b_2, label=L\"B_0 = 5.5\", style=:dash)\n",
    "\n",
    "# cur_x_b_3 = map(cur_reactor -> cur_reactor.P_F, cur_calibrations[\"scylla_B_CS_B_0_6_5\"].reactors)\n",
    "# cur_y_b_3 = map(cur_reactor -> cur_reactor.B_CS, cur_calibrations[\"scylla_B_CS_B_0_6_5\"].reactors)\n",
    "\n",
    "# plot!(cur_x_b_3, cur_y_b_3, label=L\"B_0 = 6.5\", style=:dash)\n",
    "\n",
    "# scatter!(cur_x, cur_y, label=\"\")\n",
    "\n",
    "# ylims!(0,50)\n",
    "# xlims!(0,3000)\n",
    "\n",
    "# xlabel!(L\"P_F\")\n",
    "# ylabel!(L\"B_{CS}\")\n",
    "# title!(\"Scylla Prototyping\")\n",
    "\n",
    "# plot!([min_P_F, max_P_F, max_P_F, min_P_F, min_P_F], [50,50,0,0,50], fill=true, fillopacity=0.1, color=3, label=\"Valid Region\")\n",
    "\n",
    "# tmp_p = 2250\n",
    "# tmp_b = polyfit(cur_x, cur_y)(tmp_p)\n",
    "\n",
    "# plot!([tmp_p,tmp_p],[0,50], label=latexstring(\"P_F = $tmp_p\"), color=2)\n",
    "# scatter!([tmp_p], [tmp_b], color=2, label=latexstring(\"B_{CS} = $(round(tmp_b,2))\"))\n",
    "\n",
    "\n",
    "# scatter!(cur_x, cur_y, label=\"\")\n",
    "\n",
    "ylims!(0,50)\n",
    "xlims!(0,3000)\n",
    "\n",
    "plot!([0,3000],[25,25], style=:dot, color=:black, opacity=0.75, label=L\"B_{CS} = 25 \\, \\textnormal{T}\")\n",
    "\n",
    "xlabel!(L\"P_F\")\n",
    "ylabel!(L\"B_{CS}\")\n",
    "title!(\"Scylla Prototyping\")\n",
    "\n",
    "scatter!([1000], [25], label=L\"P_F = 1000 \\, \\textnormal{MW}\")\n",
    "scatter!([2250], [25], label=L\"P_F = 2250 \\, \\textnormal{MW}\")\n",
    "\n",
    "# plot!([min_P_F, max_P_F, max_P_F, min_P_F, min_P_F], [50,50,0,0,50], fill=true, fillopacity=0.1, color=3, label=\"Valid Region\")\n"
   ]
  },
  {
   "cell_type": "code",
   "execution_count": null,
   "metadata": {},
   "outputs": [],
   "source": [
    "cur_x = map(cur_reactor -> cur_reactor.P_F, cur_calibrations[\"charybdis_H\"].reactors)\n",
    "cur_y = map(cur_reactor -> cur_reactor.H, cur_calibrations[\"charybdis_H\"].reactors)\n",
    "\n",
    "cur_charybdis_plot = plot(cur_x, cur_y, label=\"\")\n",
    "\n",
    "ylims!(0,2)\n",
    "xlims!(0,3000)\n",
    "\n",
    "xlabel!(L\"P_F\")\n",
    "ylabel!(L\"H\")\n",
    "title!(\"Charybdis Prototyping\")\n",
    "\n",
    "plot!([1000, 2250, 2250, 1000, 1000], [2,2,0,0,2], fill=true, fillopacity=0.1, color=3, label=\"Valid Region\")\n"
   ]
  },
  {
   "cell_type": "code",
   "execution_count": null,
   "metadata": {},
   "outputs": [],
   "source": [
    "savefig(cur_charybdis_plot, \"../images/prototype_charybdis.tex\")\n",
    "savefig(cur_scylla_plot, \"../images/prototype_scylla.tex\")\n"
   ]
  },
  {
   "cell_type": "code",
   "execution_count": null,
   "metadata": {},
   "outputs": [],
   "source": [
    "cur_x = map(cur_reactor -> cur_reactor.P_F, cur_calibrations[\"scylla_B_CS_Kink\"].reactors)\n",
    "cur_y = map(cur_reactor -> cur_reactor.B_CS, cur_calibrations[\"scylla_B_CS_Kink\"].reactors)\n",
    "\n",
    "cur_scylla_plot = plot(cur_x, cur_y, label=\"\")\n",
    "scatter!(cur_x, cur_y, label=\"\")\n",
    "\n",
    "ylims!(0,50)\n",
    "xlims!(0,3000)\n",
    "\n",
    "xlabel!(L\"P_F\")\n",
    "ylabel!(L\"B_{CS}\")\n",
    "title!(\"Scylla Prototyping\")\n",
    "\n",
    "plot!([min_P_F, max_P_F, max_P_F, min_P_F, min_P_F], [50,50,0,0,50], fill=true, fillopacity=0.1, color=3, label=\"Valid Region\")\n",
    "\n",
    "tmp_p = 2250\n",
    "tmp_b = polyfit(cur_x, cur_y)(tmp_p)\n",
    "\n",
    "# plot!([tmp_p,tmp_p],[0,50], label=latexstring(\"P_F = $tmp_p\"), color=2)\n",
    "# scatter!([tmp_p], [tmp_b], color=2, label=latexstring(\"B_{CS} = $(round(tmp_b,2))\"))\n"
   ]
  },
  {
   "cell_type": "code",
   "execution_count": null,
   "metadata": {},
   "outputs": [],
   "source": [
    "cur_calibrations[\"scylla_cost_13\"].reactors"
   ]
  },
  {
   "cell_type": "code",
   "execution_count": null,
   "metadata": {
    "scrolled": false
   },
   "outputs": [],
   "source": [
    "work_x = []\n",
    "work_y = []\n",
    "work_z = []\n",
    "\n",
    "cur_scylla_plot = plot()\n",
    "\n",
    "cur_keys = sort(collect(keys(cur_calibrations)))\n",
    "\n",
    "for cur_key in cur_keys\n",
    "    cur_value = cur_calibrations[cur_key]\n",
    "    \n",
    "    startswith(cur_key, \"scylla_\") || continue\n",
    "    contains(cur_key, \"_25\") && continue\n",
    "    \n",
    "    contains(cur_key, \"_B_0_\") && continue\n",
    "    \n",
    "    tmp_x = []\n",
    "    tmp_y = []\n",
    "    tmp_z = []\n",
    "    for work_reactor in cur_value.reactors\n",
    "        push!(tmp_x, work_reactor.P_F)\n",
    "        push!(tmp_y, work_reactor.B_CS)\n",
    "        push!(tmp_z, work_reactor.B_0)\n",
    "    end\n",
    "    \n",
    "    if endswith(cur_key,\"Kink\") \n",
    "        cur_color = 1\n",
    "        cur_label = \"Beta-Kink\"\n",
    "    else\n",
    "        cur_color = 3\n",
    "        cur_label = \"Beta-Wall\"\n",
    "    end\n",
    "    \n",
    "    plot!(tmp_x, tmp_y, width=2,color=cur_color,label=cur_label)\n",
    "\n",
    "    append!(work_x, tmp_x)\n",
    "    append!(work_y, tmp_y)\n",
    "    append!(work_z, tmp_z)\n",
    "end\n",
    "\n",
    "work_min_y = minimum(work_y)\n",
    "\n",
    "cur_colors = []\n",
    "\n",
    "cur_dict = OrderedDict()\n",
    "\n",
    "work_x = []\n",
    "work_y = []\n",
    "work_z = []\n",
    "\n",
    "for cur_key in cur_keys\n",
    "    cur_value = cur_calibrations[cur_key]\n",
    "    \n",
    "    startswith(cur_key, \"scylla_\") || continue\n",
    "    contains(cur_key, \"_25\") && continue\n",
    "    \n",
    "    contains(cur_key, \"_B_0_\") && continue\n",
    "  \n",
    "    ( cur_key == \"scylla_B_CS_B_0_4_0\" ) && continue\n",
    "    \n",
    "    tmp_x = []\n",
    "    tmp_y = []\n",
    "    tmp_z = []\n",
    "    for work_reactor in cur_value.reactors\n",
    "        push!(tmp_x, work_reactor.P_F)\n",
    "        push!(tmp_y, work_reactor.B_CS)\n",
    "        push!(tmp_z, work_reactor.B_0)\n",
    "    end\n",
    "    \n",
    "    isempty(tmp_z) && println(cur_key)\n",
    "    isempty(tmp_z) && continue\n",
    "\n",
    "    append!(work_x, tmp_x)\n",
    "    append!(work_y, tmp_y)\n",
    "    append!(work_z, tmp_z)\n",
    "    \n",
    "    cur_dict[cur_key] = (tmp_x, tmp_y, tmp_z)\n",
    "end\n",
    "\n",
    "work_min_y = min(work_min_y, minimum(work_y))\n",
    "\n",
    "cur_index = 0\n",
    "for (cur_key, (tmp_x, tmp_y, tmp_z)) in cur_dict\n",
    "    cur_index += 1 \n",
    "    \n",
    "    cur_scalar = (cur_index-1)/(length(cur_dict)-1)\n",
    "    cur_scalar *= 0.5\n",
    "    cur_scalar += 0.25\n",
    "    println(cur_scalar)\n",
    "    \n",
    "    cur_color = get(ColorSchemes.viridis, cur_scalar)\n",
    "    push!(cur_colors, cur_color)\n",
    "    \n",
    "    plot!(tmp_x, tmp_y, label=\"$(round(tmp_z[1],1))\", color=cur_color, label=\"\")\n",
    "    \n",
    "end\n",
    "\n",
    "# cur_spline = Spline2D(work_x, work_y, work_z, s=1e2)\n",
    "\n",
    "ylims!(0,40)\n",
    "# xlims!(0,3000)\n",
    "# new_x = linspace(0, 3000, 41)\n",
    "# new_y = linspace(0, 50, 41)\n",
    "# contour!(new_x, new_y, new_z)\n",
    "plot!()\n",
    "\n",
    "ylabel!(L\"B_{CS}\")\n",
    "xlabel!(L\"P_F\")\n",
    "\n",
    "work_min_z = minimum(work_z)\n",
    "work_max_z = maximum(work_z)\n",
    "\n",
    "cur_diff_z = work_max_z - work_min_z\n",
    "\n",
    "work_min_z -= 0.25 * cur_diff_z\n",
    "work_max_z += 0.25 * cur_diff_z\n",
    "\n",
    "cur_z_list = collect(linspace(work_min_z, work_max_z, length(cur_dict)+2))\n",
    "\n",
    "contour!(\n",
    "    cur_z_list * ones(length(cur_dict)+2)',\n",
    "    color=:viridis,colorbar=true, fillopacity=0, colorbar_title=L\"B_0\")\n",
    "plot!()\n",
    "\n",
    "plot!([0, work_max_z, work_max_z, 0, 0]*2, [0, 0, work_max_z, work_max_z,0]*2, fill=true, color=:white, label=\"\")\n",
    "\n",
    "work_min_y = 20\n",
    "plot!([0,4500],[work_min_y,work_min_y],style=:dash, label=\"$(Int(round(work_min_y,0)))\\\\,\\\\,\\\\textnormal{T}\", color=4)\n",
    "\n",
    "scatter!([1986], [20], label=L\"2000 \\, \\textnormal{MW}\", color=:yellow, marker=:diamond, markersize=8)\n",
    "# scatter!([1050], [20])\n",
    "scatter!([1658], [20], label=L\"1700 \\, \\textnormal{MW}\", color=1)\n",
    "scatter!([2538], [20], label=L\"2500 \\, \\textnormal{MW}\",color=3)\n",
    "\n",
    "title!(\"Scylla Prototyping\")\n",
    "\n",
    "xlims!(0,4650)\n"
   ]
  },
  {
   "cell_type": "code",
   "execution_count": null,
   "metadata": {},
   "outputs": [],
   "source": [
    "using Plots\n",
    "pgfplots()\n",
    "\n",
    "using LaTeXStrings\n",
    "using ColorSchemes"
   ]
  },
  {
   "cell_type": "code",
   "execution_count": null,
   "metadata": {},
   "outputs": [],
   "source": [
    "cur_x = map(cur_reactor -> cur_reactor.P_F, cur_calibrations[\"charybdis_H\"].reactors)\n",
    "cur_y = map(cur_reactor -> cur_reactor.H, cur_calibrations[\"charybdis_H\"].reactors)\n",
    "\n",
    "cur_charybdis_plot = plot(cur_x, cur_y, label=\"Beta-Wall\", color=2)\n",
    "\n",
    "ylims!(0,3)\n",
    "xlims!(0,4650)\n",
    "\n",
    "xlabel!(L\"P_F\")\n",
    "ylabel!(L\"H\")\n",
    "title!(\"Charybdis Prototyping\")\n",
    "\n",
    "plot!([1658,1658],[0,3],color=1,width=2,label=L\"1700 \\, \\textnormal{MW}\")\n",
    "plot!([2538,2538],[0,3],color=3,width=2,label=L\"2500 \\, \\textnormal{MW}\")\n",
    "\n",
    "# plot!([1000, maximum(cur_x), maximum(cur_x), 1000, 1000], [2,2,0,0,2], fill=true, fillopacity=0.1, color=3, label=\"Valid Region\")\n",
    "\n",
    "plot!([2000,2000],[0,3], color=4, style=:dash,label=L\"2000 \\, \\textnormal{MW}\")\n",
    "scatter!([2000],[1.565775], color=:yellow, marker=:diamond, markersize=8, label=\"H = 1.57\")\n",
    "\n",
    "scatter!([1658],[1.62], color=1, label=\"H = 1.62\")\n",
    "scatter!([2538],[1.495], color=3, label=\"H = 1.50\")\n",
    "\n",
    "scatter!([minimum(cur_x)],[maximum(cur_y)], label=\"\")\n"
   ]
  },
  {
   "cell_type": "code",
   "execution_count": null,
   "metadata": {},
   "outputs": [],
   "source": [
    "pgfplots()"
   ]
  },
  {
   "cell_type": "code",
   "execution_count": null,
   "metadata": {},
   "outputs": [],
   "source": [
    "match(Reactor(:T_bar, deck=:scylla, constraint=:beta, B_CS=20.34), :B_0, 5.5).P_F"
   ]
  },
  {
   "cell_type": "code",
   "execution_count": null,
   "metadata": {},
   "outputs": [],
   "source": [
    "savefig(cur_charybdis_plot, \"../images/prototype_charybdis.jpg\")\n",
    "savefig(cur_scylla_plot, \"../images/prototype_scylla.jpg\")"
   ]
  },
  {
   "cell_type": "code",
   "execution_count": null,
   "metadata": {},
   "outputs": [],
   "source": [
    "cur_calibrations"
   ]
  },
  {
   "cell_type": "code",
   "execution_count": null,
   "metadata": {},
   "outputs": [],
   "source": [
    "using Plots"
   ]
  },
  {
   "cell_type": "code",
   "execution_count": null,
   "metadata": {
    "scrolled": false
   },
   "outputs": [],
   "source": [
    "cur_plots = []\n",
    "for cur_deck in [\"proteus\", \"charybdis\"]\n",
    "    push!(cur_plots, plot())\n",
    "\n",
    "    if cur_deck == \"proteus\"\n",
    "        ylims!(0,40)\n",
    "    else\n",
    "        ylims!(0,3)\n",
    "    end\n",
    "\n",
    "    xlims!(0,5000)\n",
    "    \n",
    "    for (cur_key, cur_value) in sort(cur_calibrations)\n",
    "        startswith(cur_key, cur_deck) || continue\n",
    "        contains(cur_key, \"_B_0_\") && continue\n",
    "        \n",
    "        tmp_reactors = deepcopy(cur_calibrations[cur_key].reactors)\n",
    "        filter!(tmp_reactor -> tmp_reactor.is_good && tmp_reactor.is_valid, tmp_reactors)\n",
    "        \n",
    "        cur_x = map(cur_reactor -> cur_reactor.P_F, tmp_reactors)\n",
    "        isempty(cur_x) && continue\n",
    "        \n",
    "        if cur_deck == \"proteus\"\n",
    "            cur_y = map(cur_reactor -> cur_reactor.B_CS, tmp_reactors)\n",
    "        else\n",
    "            cur_y = map(cur_reactor -> cur_reactor.H, tmp_reactors)\n",
    "        end\n",
    "\n",
    "        if !contains(cur_key, \"cost\")\n",
    "            plot!(cur_x, cur_y, width=2)\n",
    "        else\n",
    "            scatter!(cur_x, cur_y, style=:dash, label=replace(cur_key, \"_\", \" \"))\n",
    "        end\n",
    "        \n",
    "        println(cur_key) \n",
    "    end\n",
    "    plot!(legend=false)\n",
    "end\n",
    "plot(cur_plots...)"
   ]
  },
  {
   "cell_type": "code",
   "execution_count": null,
   "metadata": {},
   "outputs": [],
   "source": [
    "plotlyjs()"
   ]
  },
  {
   "cell_type": "code",
   "execution_count": null,
   "metadata": {},
   "outputs": [],
   "source": [
    "cur_calibrations[]"
   ]
  },
  {
   "cell_type": "code",
   "execution_count": null,
   "metadata": {},
   "outputs": [],
   "source": [
    "map(xx->xx.cost, cur_calibrations[\"scylla_B_CS_Kink\"].reactors)"
   ]
  },
  {
   "cell_type": "code",
   "execution_count": null,
   "metadata": {},
   "outputs": [],
   "source": [
    "map(xx->xx.cost, cur_calibrations[\"charybdis_cost_15\"].reactors)\n"
   ]
  },
  {
   "cell_type": "code",
   "execution_count": null,
   "metadata": {},
   "outputs": [],
   "source": [
    "for (cur_key, cur_value) in cur_calibrations\n",
    "    contains(cur_key, \"_cost_\") || continue \n",
    "    \n",
    "    first_part, last_part = split(cur_key, \"_cost_\")\n",
    "    last_part = rpad(last_part, 3, \"0\")\n",
    "    new_key = \"$(first_part)_cost_$(last_part)\"\n",
    "    \n",
    "    cur_calibrations[new_key] = cur_value\n",
    "    delete!(cur_calibrations, cur_key)\n",
    "end"
   ]
  },
  {
   "cell_type": "code",
   "execution_count": null,
   "metadata": {},
   "outputs": [],
   "source": [
    "sort(collect(keys(cur_calibrations)))"
   ]
  },
  {
   "cell_type": "code",
   "execution_count": null,
   "metadata": {},
   "outputs": [],
   "source": [
    "proto_studies"
   ]
  },
  {
   "cell_type": "code",
   "execution_count": null,
   "metadata": {},
   "outputs": [],
   "source": [
    "cur_calibrations"
   ]
  },
  {
   "cell_type": "code",
   "execution_count": null,
   "metadata": {},
   "outputs": [],
   "source": []
  }
 ],
 "metadata": {
  "kernelspec": {
   "display_name": "Julia 0.6.2",
   "language": "julia",
   "name": "julia-0.6"
  },
  "language_info": {
   "file_extension": ".jl",
   "mimetype": "application/julia",
   "name": "julia",
   "version": "0.6.2"
  }
 },
 "nbformat": 4,
 "nbformat_minor": 2
}
